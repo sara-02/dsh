{
 "cells": [
  {
   "cell_type": "code",
   "execution_count": 4,
   "metadata": {
    "collapsed": true
   },
   "outputs": [],
   "source": [
    "import pandas as pd\n",
    "import numpy as np\n",
    "import time, datetime\n",
    "import matplotlib.pyplot as plt\n",
    "%matplotlib inline"
   ]
  },
  {
   "cell_type": "code",
   "execution_count": 5,
   "metadata": {
    "collapsed": true
   },
   "outputs": [],
   "source": [
    "input1 = pd.read_csv(\"~/Downloads/ign.csv\")"
   ]
  },
  {
   "cell_type": "code",
   "execution_count": 6,
   "metadata": {
    "collapsed": false
   },
   "outputs": [
    {
     "name": "stdout",
     "output_type": "stream",
     "text": [
      "The original length of the dataset is = 18625\n"
     ]
    }
   ],
   "source": [
    "print (\"The original length of the dataset is = %d\"%len(input1))"
   ]
  },
  {
   "cell_type": "code",
   "execution_count": 7,
   "metadata": {
    "collapsed": false
   },
   "outputs": [
    {
     "name": "stdout",
     "output_type": "stream",
     "text": [
      "The length of dataset with clean values is = 18625\n",
      "Number of values discard = 36\n"
     ]
    }
   ],
   "source": [
    "#Check for NAN, null values\n",
    "input2 = input1.dropna(how = 'any')\n",
    "print (\"The length of dataset with clean values is = %d\"%len(input1))\n",
    "l1 = len(input1)\n",
    "l2 = len(input2)\n",
    "print (\"Number of values discard = %d\"%(l1-l2))"
   ]
  },
  {
   "cell_type": "code",
   "execution_count": 8,
   "metadata": {
    "collapsed": false
   },
   "outputs": [
    {
     "name": "stdout",
     "output_type": "stream",
     "text": [
      "Percentage of data loss = 0.193289\n"
     ]
    }
   ],
   "source": [
    "#Percentage of information loss due to discarding of rows\n",
    "print (\"Percentage of data loss = %f\"%((l1-l2)/l1*100))"
   ]
  },
  {
   "cell_type": "code",
   "execution_count": 9,
   "metadata": {
    "collapsed": true
   },
   "outputs": [],
   "source": [
    "#As the percentage is very samll (<1), we can safely discard those rows, and use rest of the data for analysis."
   ]
  },
  {
   "cell_type": "code",
   "execution_count": 10,
   "metadata": {
    "collapsed": true
   },
   "outputs": [],
   "source": [
    "# Analysis the constituents of the datset"
   ]
  },
  {
   "cell_type": "code",
   "execution_count": 11,
   "metadata": {
    "collapsed": false
   },
   "outputs": [
    {
     "data": {
      "text/html": [
       "<div>\n",
       "<table border=\"1\" class=\"dataframe\">\n",
       "  <thead>\n",
       "    <tr style=\"text-align: right;\">\n",
       "      <th></th>\n",
       "      <th>Unnamed: 0</th>\n",
       "      <th>score_phrase</th>\n",
       "      <th>title</th>\n",
       "      <th>url</th>\n",
       "      <th>platform</th>\n",
       "      <th>score</th>\n",
       "      <th>genre</th>\n",
       "      <th>editors_choice</th>\n",
       "      <th>release_year</th>\n",
       "      <th>release_month</th>\n",
       "      <th>release_day</th>\n",
       "    </tr>\n",
       "  </thead>\n",
       "  <tbody>\n",
       "    <tr>\n",
       "      <th>0</th>\n",
       "      <td>0</td>\n",
       "      <td>Amazing</td>\n",
       "      <td>LittleBigPlanet PS Vita</td>\n",
       "      <td>/games/littlebigplanet-vita/vita-98907</td>\n",
       "      <td>PlayStation Vita</td>\n",
       "      <td>9.0</td>\n",
       "      <td>Platformer</td>\n",
       "      <td>Y</td>\n",
       "      <td>2012</td>\n",
       "      <td>9</td>\n",
       "      <td>12</td>\n",
       "    </tr>\n",
       "    <tr>\n",
       "      <th>1</th>\n",
       "      <td>1</td>\n",
       "      <td>Amazing</td>\n",
       "      <td>LittleBigPlanet PS Vita -- Marvel Super Hero E...</td>\n",
       "      <td>/games/littlebigplanet-ps-vita-marvel-super-he...</td>\n",
       "      <td>PlayStation Vita</td>\n",
       "      <td>9.0</td>\n",
       "      <td>Platformer</td>\n",
       "      <td>Y</td>\n",
       "      <td>2012</td>\n",
       "      <td>9</td>\n",
       "      <td>12</td>\n",
       "    </tr>\n",
       "    <tr>\n",
       "      <th>2</th>\n",
       "      <td>2</td>\n",
       "      <td>Great</td>\n",
       "      <td>Splice: Tree of Life</td>\n",
       "      <td>/games/splice/ipad-141070</td>\n",
       "      <td>iPad</td>\n",
       "      <td>8.5</td>\n",
       "      <td>Puzzle</td>\n",
       "      <td>N</td>\n",
       "      <td>2012</td>\n",
       "      <td>9</td>\n",
       "      <td>12</td>\n",
       "    </tr>\n",
       "    <tr>\n",
       "      <th>3</th>\n",
       "      <td>3</td>\n",
       "      <td>Great</td>\n",
       "      <td>NHL 13</td>\n",
       "      <td>/games/nhl-13/xbox-360-128182</td>\n",
       "      <td>Xbox 360</td>\n",
       "      <td>8.5</td>\n",
       "      <td>Sports</td>\n",
       "      <td>N</td>\n",
       "      <td>2012</td>\n",
       "      <td>9</td>\n",
       "      <td>11</td>\n",
       "    </tr>\n",
       "    <tr>\n",
       "      <th>4</th>\n",
       "      <td>4</td>\n",
       "      <td>Great</td>\n",
       "      <td>NHL 13</td>\n",
       "      <td>/games/nhl-13/ps3-128181</td>\n",
       "      <td>PlayStation 3</td>\n",
       "      <td>8.5</td>\n",
       "      <td>Sports</td>\n",
       "      <td>N</td>\n",
       "      <td>2012</td>\n",
       "      <td>9</td>\n",
       "      <td>11</td>\n",
       "    </tr>\n",
       "  </tbody>\n",
       "</table>\n",
       "</div>"
      ],
      "text/plain": [
       "   Unnamed: 0 score_phrase                                              title  \\\n",
       "0           0      Amazing                            LittleBigPlanet PS Vita   \n",
       "1           1      Amazing  LittleBigPlanet PS Vita -- Marvel Super Hero E...   \n",
       "2           2        Great                               Splice: Tree of Life   \n",
       "3           3        Great                                             NHL 13   \n",
       "4           4        Great                                             NHL 13   \n",
       "\n",
       "                                                 url          platform  score  \\\n",
       "0             /games/littlebigplanet-vita/vita-98907  PlayStation Vita    9.0   \n",
       "1  /games/littlebigplanet-ps-vita-marvel-super-he...  PlayStation Vita    9.0   \n",
       "2                          /games/splice/ipad-141070              iPad    8.5   \n",
       "3                      /games/nhl-13/xbox-360-128182          Xbox 360    8.5   \n",
       "4                           /games/nhl-13/ps3-128181     PlayStation 3    8.5   \n",
       "\n",
       "        genre editors_choice  release_year  release_month  release_day  \n",
       "0  Platformer              Y          2012              9           12  \n",
       "1  Platformer              Y          2012              9           12  \n",
       "2      Puzzle              N          2012              9           12  \n",
       "3      Sports              N          2012              9           11  \n",
       "4      Sports              N          2012              9           11  "
      ]
     },
     "execution_count": 11,
     "metadata": {},
     "output_type": "execute_result"
    }
   ],
   "source": [
    "#What are the first and last few values\n",
    "input2.head()"
   ]
  },
  {
   "cell_type": "code",
   "execution_count": 12,
   "metadata": {
    "collapsed": false
   },
   "outputs": [
    {
     "data": {
      "text/html": [
       "<div>\n",
       "<table border=\"1\" class=\"dataframe\">\n",
       "  <thead>\n",
       "    <tr style=\"text-align: right;\">\n",
       "      <th></th>\n",
       "      <th>Unnamed: 0</th>\n",
       "      <th>score_phrase</th>\n",
       "      <th>title</th>\n",
       "      <th>url</th>\n",
       "      <th>platform</th>\n",
       "      <th>score</th>\n",
       "      <th>genre</th>\n",
       "      <th>editors_choice</th>\n",
       "      <th>release_year</th>\n",
       "      <th>release_month</th>\n",
       "      <th>release_day</th>\n",
       "    </tr>\n",
       "  </thead>\n",
       "  <tbody>\n",
       "    <tr>\n",
       "      <th>18620</th>\n",
       "      <td>18620</td>\n",
       "      <td>Good</td>\n",
       "      <td>Tokyo Mirage Sessions #FE</td>\n",
       "      <td>/games/fire-emblem-x-shin-megami-tensei/wii-u-...</td>\n",
       "      <td>Wii U</td>\n",
       "      <td>7.6</td>\n",
       "      <td>RPG</td>\n",
       "      <td>N</td>\n",
       "      <td>2016</td>\n",
       "      <td>6</td>\n",
       "      <td>29</td>\n",
       "    </tr>\n",
       "    <tr>\n",
       "      <th>18621</th>\n",
       "      <td>18621</td>\n",
       "      <td>Amazing</td>\n",
       "      <td>LEGO Star Wars: The Force Awakens</td>\n",
       "      <td>/games/lego-star-wars-the-force-awakens/ps4-20...</td>\n",
       "      <td>PlayStation 4</td>\n",
       "      <td>9.0</td>\n",
       "      <td>Action, Adventure</td>\n",
       "      <td>Y</td>\n",
       "      <td>2016</td>\n",
       "      <td>6</td>\n",
       "      <td>29</td>\n",
       "    </tr>\n",
       "    <tr>\n",
       "      <th>18622</th>\n",
       "      <td>18622</td>\n",
       "      <td>Mediocre</td>\n",
       "      <td>Star Ocean: Integrity and Faithlessness</td>\n",
       "      <td>/games/star-ocean-5/ps4-20035681</td>\n",
       "      <td>PlayStation 4</td>\n",
       "      <td>5.8</td>\n",
       "      <td>RPG</td>\n",
       "      <td>N</td>\n",
       "      <td>2016</td>\n",
       "      <td>6</td>\n",
       "      <td>28</td>\n",
       "    </tr>\n",
       "    <tr>\n",
       "      <th>18623</th>\n",
       "      <td>18623</td>\n",
       "      <td>Masterpiece</td>\n",
       "      <td>Inside</td>\n",
       "      <td>/games/inside-playdead/xbox-one-121435</td>\n",
       "      <td>Xbox One</td>\n",
       "      <td>10.0</td>\n",
       "      <td>Adventure</td>\n",
       "      <td>Y</td>\n",
       "      <td>2016</td>\n",
       "      <td>6</td>\n",
       "      <td>28</td>\n",
       "    </tr>\n",
       "    <tr>\n",
       "      <th>18624</th>\n",
       "      <td>18624</td>\n",
       "      <td>Masterpiece</td>\n",
       "      <td>Inside</td>\n",
       "      <td>/games/inside-playdead/pc-20055740</td>\n",
       "      <td>PC</td>\n",
       "      <td>10.0</td>\n",
       "      <td>Adventure</td>\n",
       "      <td>Y</td>\n",
       "      <td>2016</td>\n",
       "      <td>6</td>\n",
       "      <td>28</td>\n",
       "    </tr>\n",
       "  </tbody>\n",
       "</table>\n",
       "</div>"
      ],
      "text/plain": [
       "       Unnamed: 0 score_phrase                                    title  \\\n",
       "18620       18620         Good                Tokyo Mirage Sessions #FE   \n",
       "18621       18621      Amazing        LEGO Star Wars: The Force Awakens   \n",
       "18622       18622     Mediocre  Star Ocean: Integrity and Faithlessness   \n",
       "18623       18623  Masterpiece                                   Inside   \n",
       "18624       18624  Masterpiece                                   Inside   \n",
       "\n",
       "                                                     url       platform  \\\n",
       "18620  /games/fire-emblem-x-shin-megami-tensei/wii-u-...          Wii U   \n",
       "18621  /games/lego-star-wars-the-force-awakens/ps4-20...  PlayStation 4   \n",
       "18622                   /games/star-ocean-5/ps4-20035681  PlayStation 4   \n",
       "18623             /games/inside-playdead/xbox-one-121435       Xbox One   \n",
       "18624                 /games/inside-playdead/pc-20055740             PC   \n",
       "\n",
       "       score              genre editors_choice  release_year  release_month  \\\n",
       "18620    7.6                RPG              N          2016              6   \n",
       "18621    9.0  Action, Adventure              Y          2016              6   \n",
       "18622    5.8                RPG              N          2016              6   \n",
       "18623   10.0          Adventure              Y          2016              6   \n",
       "18624   10.0          Adventure              Y          2016              6   \n",
       "\n",
       "       release_day  \n",
       "18620           29  \n",
       "18621           29  \n",
       "18622           28  \n",
       "18623           28  \n",
       "18624           28  "
      ]
     },
     "execution_count": 12,
     "metadata": {},
     "output_type": "execute_result"
    }
   ],
   "source": [
    "input2.tail()"
   ]
  },
  {
   "cell_type": "code",
   "execution_count": 13,
   "metadata": {
    "collapsed": false
   },
   "outputs": [
    {
     "data": {
      "text/plain": [
       "Index(['Unnamed: 0', 'score_phrase', 'title', 'url', 'platform', 'score',\n",
       "       'genre', 'editors_choice', 'release_year', 'release_month',\n",
       "       'release_day'],\n",
       "      dtype='object')"
      ]
     },
     "execution_count": 13,
     "metadata": {},
     "output_type": "execute_result"
    }
   ],
   "source": [
    "input2.columns"
   ]
  },
  {
   "cell_type": "code",
   "execution_count": 14,
   "metadata": {
    "collapsed": false
   },
   "outputs": [
    {
     "data": {
      "text/html": [
       "<div>\n",
       "<table border=\"1\" class=\"dataframe\">\n",
       "  <thead>\n",
       "    <tr style=\"text-align: right;\">\n",
       "      <th></th>\n",
       "      <th>Unnamed: 0</th>\n",
       "      <th>score</th>\n",
       "      <th>release_year</th>\n",
       "      <th>release_month</th>\n",
       "      <th>release_day</th>\n",
       "    </tr>\n",
       "  </thead>\n",
       "  <tbody>\n",
       "    <tr>\n",
       "      <th>count</th>\n",
       "      <td>18589.000000</td>\n",
       "      <td>18589.000000</td>\n",
       "      <td>18589.000000</td>\n",
       "      <td>18589.000000</td>\n",
       "      <td>18589.000000</td>\n",
       "    </tr>\n",
       "    <tr>\n",
       "      <th>mean</th>\n",
       "      <td>9306.310183</td>\n",
       "      <td>6.950853</td>\n",
       "      <td>2006.508634</td>\n",
       "      <td>7.139868</td>\n",
       "      <td>15.601431</td>\n",
       "    </tr>\n",
       "    <tr>\n",
       "      <th>std</th>\n",
       "      <td>5376.141895</td>\n",
       "      <td>1.712078</td>\n",
       "      <td>4.588687</td>\n",
       "      <td>3.477048</td>\n",
       "      <td>8.692460</td>\n",
       "    </tr>\n",
       "    <tr>\n",
       "      <th>min</th>\n",
       "      <td>0.000000</td>\n",
       "      <td>0.500000</td>\n",
       "      <td>1970.000000</td>\n",
       "      <td>1.000000</td>\n",
       "      <td>1.000000</td>\n",
       "    </tr>\n",
       "    <tr>\n",
       "      <th>25%</th>\n",
       "      <td>4651.000000</td>\n",
       "      <td>6.000000</td>\n",
       "      <td>2003.000000</td>\n",
       "      <td>4.000000</td>\n",
       "      <td>8.000000</td>\n",
       "    </tr>\n",
       "    <tr>\n",
       "      <th>50%</th>\n",
       "      <td>9298.000000</td>\n",
       "      <td>7.300000</td>\n",
       "      <td>2007.000000</td>\n",
       "      <td>8.000000</td>\n",
       "      <td>16.000000</td>\n",
       "    </tr>\n",
       "    <tr>\n",
       "      <th>75%</th>\n",
       "      <td>13959.000000</td>\n",
       "      <td>8.200000</td>\n",
       "      <td>2010.000000</td>\n",
       "      <td>10.000000</td>\n",
       "      <td>23.000000</td>\n",
       "    </tr>\n",
       "    <tr>\n",
       "      <th>max</th>\n",
       "      <td>18624.000000</td>\n",
       "      <td>10.000000</td>\n",
       "      <td>2016.000000</td>\n",
       "      <td>12.000000</td>\n",
       "      <td>31.000000</td>\n",
       "    </tr>\n",
       "  </tbody>\n",
       "</table>\n",
       "</div>"
      ],
      "text/plain": [
       "         Unnamed: 0         score  release_year  release_month   release_day\n",
       "count  18589.000000  18589.000000  18589.000000   18589.000000  18589.000000\n",
       "mean    9306.310183      6.950853   2006.508634       7.139868     15.601431\n",
       "std     5376.141895      1.712078      4.588687       3.477048      8.692460\n",
       "min        0.000000      0.500000   1970.000000       1.000000      1.000000\n",
       "25%     4651.000000      6.000000   2003.000000       4.000000      8.000000\n",
       "50%     9298.000000      7.300000   2007.000000       8.000000     16.000000\n",
       "75%    13959.000000      8.200000   2010.000000      10.000000     23.000000\n",
       "max    18624.000000     10.000000   2016.000000      12.000000     31.000000"
      ]
     },
     "execution_count": 14,
     "metadata": {},
     "output_type": "execute_result"
    }
   ],
   "source": [
    "input2.describe()"
   ]
  },
  {
   "cell_type": "code",
   "execution_count": 15,
   "metadata": {
    "collapsed": true
   },
   "outputs": [],
   "source": [
    "#It means that only 5 columns have numerical values, rest are categorical/object type"
   ]
  },
  {
   "cell_type": "code",
   "execution_count": 16,
   "metadata": {
    "collapsed": true
   },
   "outputs": [],
   "source": [
    "#lets see the high correlation if any among these numerical values"
   ]
  },
  {
   "cell_type": "code",
   "execution_count": 17,
   "metadata": {
    "collapsed": false
   },
   "outputs": [
    {
     "data": {
      "text/html": [
       "<div>\n",
       "<table border=\"1\" class=\"dataframe\">\n",
       "  <thead>\n",
       "    <tr style=\"text-align: right;\">\n",
       "      <th></th>\n",
       "      <th>Unnamed: 0</th>\n",
       "      <th>score</th>\n",
       "      <th>release_year</th>\n",
       "      <th>release_month</th>\n",
       "      <th>release_day</th>\n",
       "    </tr>\n",
       "  </thead>\n",
       "  <tbody>\n",
       "    <tr>\n",
       "      <th>Unnamed: 0</th>\n",
       "      <td>True</td>\n",
       "      <td>False</td>\n",
       "      <td>True</td>\n",
       "      <td>False</td>\n",
       "      <td>False</td>\n",
       "    </tr>\n",
       "    <tr>\n",
       "      <th>score</th>\n",
       "      <td>False</td>\n",
       "      <td>True</td>\n",
       "      <td>False</td>\n",
       "      <td>False</td>\n",
       "      <td>False</td>\n",
       "    </tr>\n",
       "    <tr>\n",
       "      <th>release_year</th>\n",
       "      <td>True</td>\n",
       "      <td>False</td>\n",
       "      <td>True</td>\n",
       "      <td>False</td>\n",
       "      <td>False</td>\n",
       "    </tr>\n",
       "    <tr>\n",
       "      <th>release_month</th>\n",
       "      <td>False</td>\n",
       "      <td>False</td>\n",
       "      <td>False</td>\n",
       "      <td>True</td>\n",
       "      <td>False</td>\n",
       "    </tr>\n",
       "    <tr>\n",
       "      <th>release_day</th>\n",
       "      <td>False</td>\n",
       "      <td>False</td>\n",
       "      <td>False</td>\n",
       "      <td>False</td>\n",
       "      <td>True</td>\n",
       "    </tr>\n",
       "  </tbody>\n",
       "</table>\n",
       "</div>"
      ],
      "text/plain": [
       "              Unnamed: 0  score release_year release_month release_day\n",
       "Unnamed: 0          True  False         True         False       False\n",
       "score              False   True        False         False       False\n",
       "release_year        True  False         True         False       False\n",
       "release_month      False  False        False          True       False\n",
       "release_day        False  False        False         False        True"
      ]
     },
     "execution_count": 17,
     "metadata": {},
     "output_type": "execute_result"
    }
   ],
   "source": [
    "input2.corr()>0.7"
   ]
  },
  {
   "cell_type": "code",
   "execution_count": 18,
   "metadata": {
    "collapsed": true
   },
   "outputs": [],
   "source": [
    "#Except for the correlation of elements with itself, there is no high correlation between other variables."
   ]
  },
  {
   "cell_type": "code",
   "execution_count": 19,
   "metadata": {
    "collapsed": true
   },
   "outputs": [],
   "source": [
    "# To find the number of unique values in categorical variable\n",
    "def find_unique(col_name):\n",
    "    l=input2[col_name].unique()\n",
    "    return len(l)"
   ]
  },
  {
   "cell_type": "code",
   "execution_count": 20,
   "metadata": {
    "collapsed": false
   },
   "outputs": [
    {
     "name": "stdout",
     "output_type": "stream",
     "text": [
      "score_phrase        has unique type count = 11\n",
      "title        has unique type count = 12556\n",
      "url        has unique type count = 18541\n",
      "platform        has unique type count = 59\n",
      "genre        has unique type count = 112\n",
      "editors_choice        has unique type count = 2\n"
     ]
    }
   ],
   "source": [
    "col_list=['score_phrase','title','url','platform','genre','editors_choice']\n",
    "for name in col_list:\n",
    "    print (name+\"        has unique type count = %d\"%find_unique(name))"
   ]
  },
  {
   "cell_type": "code",
   "execution_count": 21,
   "metadata": {
    "collapsed": true
   },
   "outputs": [],
   "source": [
    "#Lets see what score phrase has"
   ]
  },
  {
   "cell_type": "code",
   "execution_count": 22,
   "metadata": {
    "collapsed": true
   },
   "outputs": [],
   "source": [
    "sp = input2['score_phrase'].unique()"
   ]
  },
  {
   "cell_type": "code",
   "execution_count": 23,
   "metadata": {
    "collapsed": false
   },
   "outputs": [
    {
     "data": {
      "text/plain": [
       "array(['Amazing', 'Great', 'Good', 'Awful', 'Okay', 'Mediocre', 'Bad',\n",
       "       'Painful', 'Unbearable', 'Disaster', 'Masterpiece'], dtype=object)"
      ]
     },
     "execution_count": 23,
     "metadata": {},
     "output_type": "execute_result"
    }
   ],
   "source": [
    "sp"
   ]
  },
  {
   "cell_type": "code",
   "execution_count": 24,
   "metadata": {
    "collapsed": false
   },
   "outputs": [
    {
     "data": {
      "text/html": [
       "<div>\n",
       "<table border=\"1\" class=\"dataframe\">\n",
       "  <thead>\n",
       "    <tr style=\"text-align: right;\">\n",
       "      <th></th>\n",
       "      <th>Unnamed: 0</th>\n",
       "      <th>title</th>\n",
       "      <th>url</th>\n",
       "      <th>platform</th>\n",
       "      <th>score</th>\n",
       "      <th>genre</th>\n",
       "      <th>editors_choice</th>\n",
       "      <th>release_year</th>\n",
       "      <th>release_month</th>\n",
       "      <th>release_day</th>\n",
       "    </tr>\n",
       "    <tr>\n",
       "      <th>score_phrase</th>\n",
       "      <th></th>\n",
       "      <th></th>\n",
       "      <th></th>\n",
       "      <th></th>\n",
       "      <th></th>\n",
       "      <th></th>\n",
       "      <th></th>\n",
       "      <th></th>\n",
       "      <th></th>\n",
       "      <th></th>\n",
       "    </tr>\n",
       "  </thead>\n",
       "  <tbody>\n",
       "    <tr>\n",
       "      <th>Amazing</th>\n",
       "      <td>1803</td>\n",
       "      <td>1803</td>\n",
       "      <td>1803</td>\n",
       "      <td>1803</td>\n",
       "      <td>1803</td>\n",
       "      <td>1803</td>\n",
       "      <td>1803</td>\n",
       "      <td>1803</td>\n",
       "      <td>1803</td>\n",
       "      <td>1803</td>\n",
       "    </tr>\n",
       "    <tr>\n",
       "      <th>Awful</th>\n",
       "      <td>662</td>\n",
       "      <td>662</td>\n",
       "      <td>662</td>\n",
       "      <td>662</td>\n",
       "      <td>662</td>\n",
       "      <td>662</td>\n",
       "      <td>662</td>\n",
       "      <td>662</td>\n",
       "      <td>662</td>\n",
       "      <td>662</td>\n",
       "    </tr>\n",
       "    <tr>\n",
       "      <th>Bad</th>\n",
       "      <td>1268</td>\n",
       "      <td>1268</td>\n",
       "      <td>1268</td>\n",
       "      <td>1268</td>\n",
       "      <td>1268</td>\n",
       "      <td>1268</td>\n",
       "      <td>1268</td>\n",
       "      <td>1268</td>\n",
       "      <td>1268</td>\n",
       "      <td>1268</td>\n",
       "    </tr>\n",
       "    <tr>\n",
       "      <th>Disaster</th>\n",
       "      <td>3</td>\n",
       "      <td>3</td>\n",
       "      <td>3</td>\n",
       "      <td>3</td>\n",
       "      <td>3</td>\n",
       "      <td>3</td>\n",
       "      <td>3</td>\n",
       "      <td>3</td>\n",
       "      <td>3</td>\n",
       "      <td>3</td>\n",
       "    </tr>\n",
       "    <tr>\n",
       "      <th>Good</th>\n",
       "      <td>4725</td>\n",
       "      <td>4725</td>\n",
       "      <td>4725</td>\n",
       "      <td>4725</td>\n",
       "      <td>4725</td>\n",
       "      <td>4725</td>\n",
       "      <td>4725</td>\n",
       "      <td>4725</td>\n",
       "      <td>4725</td>\n",
       "      <td>4725</td>\n",
       "    </tr>\n",
       "    <tr>\n",
       "      <th>Great</th>\n",
       "      <td>4765</td>\n",
       "      <td>4765</td>\n",
       "      <td>4765</td>\n",
       "      <td>4765</td>\n",
       "      <td>4765</td>\n",
       "      <td>4765</td>\n",
       "      <td>4765</td>\n",
       "      <td>4765</td>\n",
       "      <td>4765</td>\n",
       "      <td>4765</td>\n",
       "    </tr>\n",
       "    <tr>\n",
       "      <th>Masterpiece</th>\n",
       "      <td>55</td>\n",
       "      <td>55</td>\n",
       "      <td>55</td>\n",
       "      <td>55</td>\n",
       "      <td>55</td>\n",
       "      <td>55</td>\n",
       "      <td>55</td>\n",
       "      <td>55</td>\n",
       "      <td>55</td>\n",
       "      <td>55</td>\n",
       "    </tr>\n",
       "    <tr>\n",
       "      <th>Mediocre</th>\n",
       "      <td>1957</td>\n",
       "      <td>1957</td>\n",
       "      <td>1957</td>\n",
       "      <td>1957</td>\n",
       "      <td>1957</td>\n",
       "      <td>1957</td>\n",
       "      <td>1957</td>\n",
       "      <td>1957</td>\n",
       "      <td>1957</td>\n",
       "      <td>1957</td>\n",
       "    </tr>\n",
       "    <tr>\n",
       "      <th>Okay</th>\n",
       "      <td>2940</td>\n",
       "      <td>2940</td>\n",
       "      <td>2940</td>\n",
       "      <td>2940</td>\n",
       "      <td>2940</td>\n",
       "      <td>2940</td>\n",
       "      <td>2940</td>\n",
       "      <td>2940</td>\n",
       "      <td>2940</td>\n",
       "      <td>2940</td>\n",
       "    </tr>\n",
       "    <tr>\n",
       "      <th>Painful</th>\n",
       "      <td>339</td>\n",
       "      <td>339</td>\n",
       "      <td>339</td>\n",
       "      <td>339</td>\n",
       "      <td>339</td>\n",
       "      <td>339</td>\n",
       "      <td>339</td>\n",
       "      <td>339</td>\n",
       "      <td>339</td>\n",
       "      <td>339</td>\n",
       "    </tr>\n",
       "    <tr>\n",
       "      <th>Unbearable</th>\n",
       "      <td>72</td>\n",
       "      <td>72</td>\n",
       "      <td>72</td>\n",
       "      <td>72</td>\n",
       "      <td>72</td>\n",
       "      <td>72</td>\n",
       "      <td>72</td>\n",
       "      <td>72</td>\n",
       "      <td>72</td>\n",
       "      <td>72</td>\n",
       "    </tr>\n",
       "  </tbody>\n",
       "</table>\n",
       "</div>"
      ],
      "text/plain": [
       "              Unnamed: 0  title   url  platform  score  genre  editors_choice  \\\n",
       "score_phrase                                                                    \n",
       "Amazing             1803   1803  1803      1803   1803   1803            1803   \n",
       "Awful                662    662   662       662    662    662             662   \n",
       "Bad                 1268   1268  1268      1268   1268   1268            1268   \n",
       "Disaster               3      3     3         3      3      3               3   \n",
       "Good                4725   4725  4725      4725   4725   4725            4725   \n",
       "Great               4765   4765  4765      4765   4765   4765            4765   \n",
       "Masterpiece           55     55    55        55     55     55              55   \n",
       "Mediocre            1957   1957  1957      1957   1957   1957            1957   \n",
       "Okay                2940   2940  2940      2940   2940   2940            2940   \n",
       "Painful              339    339   339       339    339    339             339   \n",
       "Unbearable            72     72    72        72     72     72              72   \n",
       "\n",
       "              release_year  release_month  release_day  \n",
       "score_phrase                                            \n",
       "Amazing               1803           1803         1803  \n",
       "Awful                  662            662          662  \n",
       "Bad                   1268           1268         1268  \n",
       "Disaster                 3              3            3  \n",
       "Good                  4725           4725         4725  \n",
       "Great                 4765           4765         4765  \n",
       "Masterpiece             55             55           55  \n",
       "Mediocre              1957           1957         1957  \n",
       "Okay                  2940           2940         2940  \n",
       "Painful                339            339          339  \n",
       "Unbearable              72             72           72  "
      ]
     },
     "execution_count": 24,
     "metadata": {},
     "output_type": "execute_result"
    }
   ],
   "source": [
    "input2.groupby('score_phrase').count()"
   ]
  },
  {
   "cell_type": "code",
   "execution_count": 25,
   "metadata": {
    "collapsed": true
   },
   "outputs": [],
   "source": [
    "#Mediocre and okay look confusing, we can merge them for ease of understand\n",
    "def merge_one(x):\n",
    "    if x=='Mediocre' or x=='Okay':\n",
    "        return 'Mediocre_Okay'\n",
    "    else:\n",
    "        return x"
   ]
  },
  {
   "cell_type": "code",
   "execution_count": 26,
   "metadata": {
    "collapsed": false
   },
   "outputs": [
    {
     "name": "stderr",
     "output_type": "stream",
     "text": [
      "/usr/lib/python3.5/site-packages/IPython/kernel/__main__.py:1: SettingWithCopyWarning: \n",
      "A value is trying to be set on a copy of a slice from a DataFrame.\n",
      "Try using .loc[row_indexer,col_indexer] = value instead\n",
      "\n",
      "See the caveats in the documentation: http://pandas.pydata.org/pandas-docs/stable/indexing.html#indexing-view-versus-copy\n",
      "  if __name__ == '__main__':\n"
     ]
    }
   ],
   "source": [
    "input2['score_phrase_new'] = input2['score_phrase'].apply(merge_one)"
   ]
  },
  {
   "cell_type": "code",
   "execution_count": 27,
   "metadata": {
    "collapsed": true
   },
   "outputs": [],
   "source": [
    "# Now lets convert the categorical values to score-points\n",
    "def score_to_numeric(x):\n",
    "    if x=='Masterpiece':\n",
    "        return 10\n",
    "    elif x=='Amazing':\n",
    "        return 9\n",
    "    elif x=='Great':\n",
    "        return 8\n",
    "    elif x=='Good':\n",
    "        return 7\n",
    "    elif x=='Mediocre_Okay':\n",
    "        return 6\n",
    "    elif x=='Bad':\n",
    "        return 5\n",
    "    elif x=='Awful':\n",
    "        return 4\n",
    "    elif x=='Painful':\n",
    "        return 3\n",
    "    elif x=='Unbearable':\n",
    "        return 2\n",
    "    elif x=='Disaster':\n",
    "        return 1"
   ]
  },
  {
   "cell_type": "code",
   "execution_count": 28,
   "metadata": {
    "collapsed": false
   },
   "outputs": [
    {
     "name": "stderr",
     "output_type": "stream",
     "text": [
      "/usr/lib/python3.5/site-packages/IPython/kernel/__main__.py:1: SettingWithCopyWarning: \n",
      "A value is trying to be set on a copy of a slice from a DataFrame.\n",
      "Try using .loc[row_indexer,col_indexer] = value instead\n",
      "\n",
      "See the caveats in the documentation: http://pandas.pydata.org/pandas-docs/stable/indexing.html#indexing-view-versus-copy\n",
      "  if __name__ == '__main__':\n"
     ]
    }
   ],
   "source": [
    "input2['category_score'] = input2['score_phrase_new'].apply(score_to_numeric).astype(int)"
   ]
  },
  {
   "cell_type": "code",
   "execution_count": 29,
   "metadata": {
    "collapsed": false
   },
   "outputs": [
    {
     "data": {
      "text/html": [
       "<div>\n",
       "<table border=\"1\" class=\"dataframe\">\n",
       "  <thead>\n",
       "    <tr style=\"text-align: right;\">\n",
       "      <th></th>\n",
       "      <th>Unnamed: 0</th>\n",
       "      <th>score_phrase</th>\n",
       "      <th>title</th>\n",
       "      <th>url</th>\n",
       "      <th>platform</th>\n",
       "      <th>score</th>\n",
       "      <th>genre</th>\n",
       "      <th>editors_choice</th>\n",
       "      <th>release_year</th>\n",
       "      <th>release_month</th>\n",
       "      <th>release_day</th>\n",
       "      <th>score_phrase_new</th>\n",
       "      <th>category_score</th>\n",
       "    </tr>\n",
       "  </thead>\n",
       "  <tbody>\n",
       "    <tr>\n",
       "      <th>0</th>\n",
       "      <td>0</td>\n",
       "      <td>Amazing</td>\n",
       "      <td>LittleBigPlanet PS Vita</td>\n",
       "      <td>/games/littlebigplanet-vita/vita-98907</td>\n",
       "      <td>PlayStation Vita</td>\n",
       "      <td>9.0</td>\n",
       "      <td>Platformer</td>\n",
       "      <td>Y</td>\n",
       "      <td>2012</td>\n",
       "      <td>9</td>\n",
       "      <td>12</td>\n",
       "      <td>Amazing</td>\n",
       "      <td>9</td>\n",
       "    </tr>\n",
       "    <tr>\n",
       "      <th>1</th>\n",
       "      <td>1</td>\n",
       "      <td>Amazing</td>\n",
       "      <td>LittleBigPlanet PS Vita -- Marvel Super Hero E...</td>\n",
       "      <td>/games/littlebigplanet-ps-vita-marvel-super-he...</td>\n",
       "      <td>PlayStation Vita</td>\n",
       "      <td>9.0</td>\n",
       "      <td>Platformer</td>\n",
       "      <td>Y</td>\n",
       "      <td>2012</td>\n",
       "      <td>9</td>\n",
       "      <td>12</td>\n",
       "      <td>Amazing</td>\n",
       "      <td>9</td>\n",
       "    </tr>\n",
       "    <tr>\n",
       "      <th>2</th>\n",
       "      <td>2</td>\n",
       "      <td>Great</td>\n",
       "      <td>Splice: Tree of Life</td>\n",
       "      <td>/games/splice/ipad-141070</td>\n",
       "      <td>iPad</td>\n",
       "      <td>8.5</td>\n",
       "      <td>Puzzle</td>\n",
       "      <td>N</td>\n",
       "      <td>2012</td>\n",
       "      <td>9</td>\n",
       "      <td>12</td>\n",
       "      <td>Great</td>\n",
       "      <td>8</td>\n",
       "    </tr>\n",
       "    <tr>\n",
       "      <th>3</th>\n",
       "      <td>3</td>\n",
       "      <td>Great</td>\n",
       "      <td>NHL 13</td>\n",
       "      <td>/games/nhl-13/xbox-360-128182</td>\n",
       "      <td>Xbox 360</td>\n",
       "      <td>8.5</td>\n",
       "      <td>Sports</td>\n",
       "      <td>N</td>\n",
       "      <td>2012</td>\n",
       "      <td>9</td>\n",
       "      <td>11</td>\n",
       "      <td>Great</td>\n",
       "      <td>8</td>\n",
       "    </tr>\n",
       "    <tr>\n",
       "      <th>4</th>\n",
       "      <td>4</td>\n",
       "      <td>Great</td>\n",
       "      <td>NHL 13</td>\n",
       "      <td>/games/nhl-13/ps3-128181</td>\n",
       "      <td>PlayStation 3</td>\n",
       "      <td>8.5</td>\n",
       "      <td>Sports</td>\n",
       "      <td>N</td>\n",
       "      <td>2012</td>\n",
       "      <td>9</td>\n",
       "      <td>11</td>\n",
       "      <td>Great</td>\n",
       "      <td>8</td>\n",
       "    </tr>\n",
       "  </tbody>\n",
       "</table>\n",
       "</div>"
      ],
      "text/plain": [
       "   Unnamed: 0 score_phrase                                              title  \\\n",
       "0           0      Amazing                            LittleBigPlanet PS Vita   \n",
       "1           1      Amazing  LittleBigPlanet PS Vita -- Marvel Super Hero E...   \n",
       "2           2        Great                               Splice: Tree of Life   \n",
       "3           3        Great                                             NHL 13   \n",
       "4           4        Great                                             NHL 13   \n",
       "\n",
       "                                                 url          platform  score  \\\n",
       "0             /games/littlebigplanet-vita/vita-98907  PlayStation Vita    9.0   \n",
       "1  /games/littlebigplanet-ps-vita-marvel-super-he...  PlayStation Vita    9.0   \n",
       "2                          /games/splice/ipad-141070              iPad    8.5   \n",
       "3                      /games/nhl-13/xbox-360-128182          Xbox 360    8.5   \n",
       "4                           /games/nhl-13/ps3-128181     PlayStation 3    8.5   \n",
       "\n",
       "        genre editors_choice  release_year  release_month  release_day  \\\n",
       "0  Platformer              Y          2012              9           12   \n",
       "1  Platformer              Y          2012              9           12   \n",
       "2      Puzzle              N          2012              9           12   \n",
       "3      Sports              N          2012              9           11   \n",
       "4      Sports              N          2012              9           11   \n",
       "\n",
       "  score_phrase_new  category_score  \n",
       "0          Amazing               9  \n",
       "1          Amazing               9  \n",
       "2            Great               8  \n",
       "3            Great               8  \n",
       "4            Great               8  "
      ]
     },
     "execution_count": 29,
     "metadata": {},
     "output_type": "execute_result"
    }
   ],
   "source": [
    "#Lets see the dataset now\n",
    "input2.head()"
   ]
  },
  {
   "cell_type": "code",
   "execution_count": 30,
   "metadata": {
    "collapsed": false
   },
   "outputs": [
    {
     "data": {
      "text/html": [
       "<div>\n",
       "<table border=\"1\" class=\"dataframe\">\n",
       "  <thead>\n",
       "    <tr style=\"text-align: right;\">\n",
       "      <th></th>\n",
       "      <th>Unnamed: 0</th>\n",
       "      <th>score</th>\n",
       "      <th>release_year</th>\n",
       "      <th>release_month</th>\n",
       "      <th>release_day</th>\n",
       "      <th>category_score</th>\n",
       "    </tr>\n",
       "  </thead>\n",
       "  <tbody>\n",
       "    <tr>\n",
       "      <th>Unnamed: 0</th>\n",
       "      <td>1.000000</td>\n",
       "      <td>0.035783</td>\n",
       "      <td>0.894141</td>\n",
       "      <td>-0.096073</td>\n",
       "      <td>0.009382</td>\n",
       "      <td>0.034243</td>\n",
       "    </tr>\n",
       "    <tr>\n",
       "      <th>score</th>\n",
       "      <td>0.035783</td>\n",
       "      <td>1.000000</td>\n",
       "      <td>0.062952</td>\n",
       "      <td>0.007765</td>\n",
       "      <td>0.020410</td>\n",
       "      <td>0.965110</td>\n",
       "    </tr>\n",
       "    <tr>\n",
       "      <th>release_year</th>\n",
       "      <td>0.894141</td>\n",
       "      <td>0.062952</td>\n",
       "      <td>1.000000</td>\n",
       "      <td>-0.115194</td>\n",
       "      <td>0.016472</td>\n",
       "      <td>0.059000</td>\n",
       "    </tr>\n",
       "    <tr>\n",
       "      <th>release_month</th>\n",
       "      <td>-0.096073</td>\n",
       "      <td>0.007765</td>\n",
       "      <td>-0.115194</td>\n",
       "      <td>1.000000</td>\n",
       "      <td>-0.067407</td>\n",
       "      <td>0.008425</td>\n",
       "    </tr>\n",
       "    <tr>\n",
       "      <th>release_day</th>\n",
       "      <td>0.009382</td>\n",
       "      <td>0.020410</td>\n",
       "      <td>0.016472</td>\n",
       "      <td>-0.067407</td>\n",
       "      <td>1.000000</td>\n",
       "      <td>0.019864</td>\n",
       "    </tr>\n",
       "    <tr>\n",
       "      <th>category_score</th>\n",
       "      <td>0.034243</td>\n",
       "      <td>0.965110</td>\n",
       "      <td>0.059000</td>\n",
       "      <td>0.008425</td>\n",
       "      <td>0.019864</td>\n",
       "      <td>1.000000</td>\n",
       "    </tr>\n",
       "  </tbody>\n",
       "</table>\n",
       "</div>"
      ],
      "text/plain": [
       "                Unnamed: 0     score  release_year  release_month  \\\n",
       "Unnamed: 0        1.000000  0.035783      0.894141      -0.096073   \n",
       "score             0.035783  1.000000      0.062952       0.007765   \n",
       "release_year      0.894141  0.062952      1.000000      -0.115194   \n",
       "release_month    -0.096073  0.007765     -0.115194       1.000000   \n",
       "release_day       0.009382  0.020410      0.016472      -0.067407   \n",
       "category_score    0.034243  0.965110      0.059000       0.008425   \n",
       "\n",
       "                release_day  category_score  \n",
       "Unnamed: 0         0.009382        0.034243  \n",
       "score              0.020410        0.965110  \n",
       "release_year       0.016472        0.059000  \n",
       "release_month     -0.067407        0.008425  \n",
       "release_day        1.000000        0.019864  \n",
       "category_score     0.019864        1.000000  "
      ]
     },
     "execution_count": 30,
     "metadata": {},
     "output_type": "execute_result"
    }
   ],
   "source": [
    "input2.corr()"
   ]
  },
  {
   "cell_type": "code",
   "execution_count": 31,
   "metadata": {
    "collapsed": true
   },
   "outputs": [],
   "source": [
    "# Score and categorical value of score seems to have a hight correlation, hence we can discard one of them in our analysis.\n",
    "# Since the categorical values were assigned by us, it will be better to use score values which are precomputed for us"
   ]
  },
  {
   "cell_type": "code",
   "execution_count": 32,
   "metadata": {
    "collapsed": false
   },
   "outputs": [
    {
     "data": {
      "text/plain": [
       "<matplotlib.text.Text at 0x7f93ed07e438>"
      ]
     },
     "execution_count": 32,
     "metadata": {},
     "output_type": "execute_result"
    },
    {
     "data": {
      "image/png": "[encoded data removed]",
      "text/plain": [
       "<matplotlib.figure.Figure at 0x7f93ed0e06d8>"
      ]
     },
     "metadata": {},
     "output_type": "display_data"
    }
   ],
   "source": [
    "plt.scatter(input2['score'],input2['category_score'])\n",
    "plt.xlabel(\"Original score\")\n",
    "plt.ylabel(\"Categorical score\")"
   ]
  },
  {
   "cell_type": "code",
   "execution_count": 33,
   "metadata": {
    "collapsed": false
   },
   "outputs": [
    {
     "data": {
      "text/plain": [
       "<matplotlib.axes._subplots.AxesSubplot at 0x7f93ed08a940>"
      ]
     },
     "execution_count": 33,
     "metadata": {},
     "output_type": "execute_result"
    },
    {
     "data": {
      "image/png": "[encoded data removed]",
      "text/plain": [
       "<matplotlib.figure.Figure at 0x7f93ed096358>"
      ]
     },
     "metadata": {},
     "output_type": "display_data"
    }
   ],
   "source": [
    "input2['score'].plot(kind='hist')"
   ]
  },
  {
   "cell_type": "code",
   "execution_count": 34,
   "metadata": {
    "collapsed": false
   },
   "outputs": [
    {
     "data": {
      "text/plain": [
       "<matplotlib.axes._subplots.AxesSubplot at 0x7f93ecfb1dd8>"
      ]
     },
     "execution_count": 34,
     "metadata": {},
     "output_type": "execute_result"
    },
    {
     "data": {
      "image/png": "[encoded data removed]",
      "text/plain": [
       "<matplotlib.figure.Figure at 0x7f93ecfbe2e8>"
      ]
     },
     "metadata": {},
     "output_type": "display_data"
    }
   ],
   "source": [
    "input2['score_phrase_new'].value_counts().plot(kind='bar')"
   ]
  },
  {
   "cell_type": "code",
   "execution_count": 35,
   "metadata": {
    "collapsed": false
   },
   "outputs": [
    {
     "data": {
      "text/plain": [
       "<matplotlib.axes._subplots.AxesSubplot at 0x7f93ecbbbc88>"
      ]
     },
     "execution_count": 35,
     "metadata": {},
     "output_type": "execute_result"
    },
    {
     "data": {
      "image/png": "[encoded data removed]",
      "text/plain": [
       "<matplotlib.figure.Figure at 0x7f93ecdecf60>"
      ]
     },
     "metadata": {},
     "output_type": "display_data"
    }
   ],
   "source": [
    "input2['platform'].value_counts().plot(kind='bar')"
   ]
  },
  {
   "cell_type": "code",
   "execution_count": 36,
   "metadata": {
    "collapsed": false
   },
   "outputs": [
    {
     "data": {
      "text/plain": [
       "<matplotlib.axes._subplots.AxesSubplot at 0x7f93ecb98d68>"
      ]
     },
     "execution_count": 36,
     "metadata": {},
     "output_type": "execute_result"
    },
    {
     "data": {
      "image/png": "[encoded data removed]",
      "text/plain": [
       "<matplotlib.figure.Figure at 0x7f93ecb3b320>"
      ]
     },
     "metadata": {},
     "output_type": "display_data"
    }
   ],
   "source": [
    "input2['editors_choice'].value_counts().plot(kind='bar')"
   ]
  },
  {
   "cell_type": "code",
   "execution_count": 37,
   "metadata": {
    "collapsed": true
   },
   "outputs": [],
   "source": [
    "# The number of Y is relatively low as compared to No, we might not have a balanced dataset to deal with."
   ]
  },
  {
   "cell_type": "code",
   "execution_count": 38,
   "metadata": {
    "collapsed": true
   },
   "outputs": [],
   "source": [
    "#lets convert the values to 0-1 for editors choice, 1 means awarded, 0 otherwise"
   ]
  },
  {
   "cell_type": "code",
   "execution_count": 39,
   "metadata": {
    "collapsed": true
   },
   "outputs": [],
   "source": [
    "def editor_choice_val(x):\n",
    "    if x=='Y':\n",
    "        return 1\n",
    "    else:\n",
    "        return 0\n",
    "    "
   ]
  },
  {
   "cell_type": "code",
   "execution_count": 40,
   "metadata": {
    "collapsed": false
   },
   "outputs": [
    {
     "name": "stderr",
     "output_type": "stream",
     "text": [
      "/usr/lib/python3.5/site-packages/IPython/kernel/__main__.py:1: SettingWithCopyWarning: \n",
      "A value is trying to be set on a copy of a slice from a DataFrame.\n",
      "Try using .loc[row_indexer,col_indexer] = value instead\n",
      "\n",
      "See the caveats in the documentation: http://pandas.pydata.org/pandas-docs/stable/indexing.html#indexing-view-versus-copy\n",
      "  if __name__ == '__main__':\n"
     ]
    }
   ],
   "source": [
    "input2['editor_award']=input2['editors_choice'].apply(editor_choice_val)"
   ]
  },
  {
   "cell_type": "code",
   "execution_count": 41,
   "metadata": {
    "collapsed": false
   },
   "outputs": [
    {
     "data": {
      "text/html": [
       "<div>\n",
       "<table border=\"1\" class=\"dataframe\">\n",
       "  <thead>\n",
       "    <tr style=\"text-align: right;\">\n",
       "      <th></th>\n",
       "      <th>Unnamed: 0</th>\n",
       "      <th>score_phrase</th>\n",
       "      <th>title</th>\n",
       "      <th>url</th>\n",
       "      <th>platform</th>\n",
       "      <th>score</th>\n",
       "      <th>genre</th>\n",
       "      <th>editors_choice</th>\n",
       "      <th>release_year</th>\n",
       "      <th>release_month</th>\n",
       "      <th>release_day</th>\n",
       "      <th>score_phrase_new</th>\n",
       "      <th>category_score</th>\n",
       "      <th>editor_award</th>\n",
       "    </tr>\n",
       "  </thead>\n",
       "  <tbody>\n",
       "    <tr>\n",
       "      <th>0</th>\n",
       "      <td>0</td>\n",
       "      <td>Amazing</td>\n",
       "      <td>LittleBigPlanet PS Vita</td>\n",
       "      <td>/games/littlebigplanet-vita/vita-98907</td>\n",
       "      <td>PlayStation Vita</td>\n",
       "      <td>9.0</td>\n",
       "      <td>Platformer</td>\n",
       "      <td>Y</td>\n",
       "      <td>2012</td>\n",
       "      <td>9</td>\n",
       "      <td>12</td>\n",
       "      <td>Amazing</td>\n",
       "      <td>9</td>\n",
       "      <td>1</td>\n",
       "    </tr>\n",
       "    <tr>\n",
       "      <th>1</th>\n",
       "      <td>1</td>\n",
       "      <td>Amazing</td>\n",
       "      <td>LittleBigPlanet PS Vita -- Marvel Super Hero E...</td>\n",
       "      <td>/games/littlebigplanet-ps-vita-marvel-super-he...</td>\n",
       "      <td>PlayStation Vita</td>\n",
       "      <td>9.0</td>\n",
       "      <td>Platformer</td>\n",
       "      <td>Y</td>\n",
       "      <td>2012</td>\n",
       "      <td>9</td>\n",
       "      <td>12</td>\n",
       "      <td>Amazing</td>\n",
       "      <td>9</td>\n",
       "      <td>1</td>\n",
       "    </tr>\n",
       "    <tr>\n",
       "      <th>2</th>\n",
       "      <td>2</td>\n",
       "      <td>Great</td>\n",
       "      <td>Splice: Tree of Life</td>\n",
       "      <td>/games/splice/ipad-141070</td>\n",
       "      <td>iPad</td>\n",
       "      <td>8.5</td>\n",
       "      <td>Puzzle</td>\n",
       "      <td>N</td>\n",
       "      <td>2012</td>\n",
       "      <td>9</td>\n",
       "      <td>12</td>\n",
       "      <td>Great</td>\n",
       "      <td>8</td>\n",
       "      <td>0</td>\n",
       "    </tr>\n",
       "    <tr>\n",
       "      <th>3</th>\n",
       "      <td>3</td>\n",
       "      <td>Great</td>\n",
       "      <td>NHL 13</td>\n",
       "      <td>/games/nhl-13/xbox-360-128182</td>\n",
       "      <td>Xbox 360</td>\n",
       "      <td>8.5</td>\n",
       "      <td>Sports</td>\n",
       "      <td>N</td>\n",
       "      <td>2012</td>\n",
       "      <td>9</td>\n",
       "      <td>11</td>\n",
       "      <td>Great</td>\n",
       "      <td>8</td>\n",
       "      <td>0</td>\n",
       "    </tr>\n",
       "    <tr>\n",
       "      <th>4</th>\n",
       "      <td>4</td>\n",
       "      <td>Great</td>\n",
       "      <td>NHL 13</td>\n",
       "      <td>/games/nhl-13/ps3-128181</td>\n",
       "      <td>PlayStation 3</td>\n",
       "      <td>8.5</td>\n",
       "      <td>Sports</td>\n",
       "      <td>N</td>\n",
       "      <td>2012</td>\n",
       "      <td>9</td>\n",
       "      <td>11</td>\n",
       "      <td>Great</td>\n",
       "      <td>8</td>\n",
       "      <td>0</td>\n",
       "    </tr>\n",
       "  </tbody>\n",
       "</table>\n",
       "</div>"
      ],
      "text/plain": [
       "   Unnamed: 0 score_phrase                                              title  \\\n",
       "0           0      Amazing                            LittleBigPlanet PS Vita   \n",
       "1           1      Amazing  LittleBigPlanet PS Vita -- Marvel Super Hero E...   \n",
       "2           2        Great                               Splice: Tree of Life   \n",
       "3           3        Great                                             NHL 13   \n",
       "4           4        Great                                             NHL 13   \n",
       "\n",
       "                                                 url          platform  score  \\\n",
       "0             /games/littlebigplanet-vita/vita-98907  PlayStation Vita    9.0   \n",
       "1  /games/littlebigplanet-ps-vita-marvel-super-he...  PlayStation Vita    9.0   \n",
       "2                          /games/splice/ipad-141070              iPad    8.5   \n",
       "3                      /games/nhl-13/xbox-360-128182          Xbox 360    8.5   \n",
       "4                           /games/nhl-13/ps3-128181     PlayStation 3    8.5   \n",
       "\n",
       "        genre editors_choice  release_year  release_month  release_day  \\\n",
       "0  Platformer              Y          2012              9           12   \n",
       "1  Platformer              Y          2012              9           12   \n",
       "2      Puzzle              N          2012              9           12   \n",
       "3      Sports              N          2012              9           11   \n",
       "4      Sports              N          2012              9           11   \n",
       "\n",
       "  score_phrase_new  category_score  editor_award  \n",
       "0          Amazing               9             1  \n",
       "1          Amazing               9             1  \n",
       "2            Great               8             0  \n",
       "3            Great               8             0  \n",
       "4            Great               8             0  "
      ]
     },
     "execution_count": 41,
     "metadata": {},
     "output_type": "execute_result"
    }
   ],
   "source": [
    "input2.head()"
   ]
  },
  {
   "cell_type": "code",
   "execution_count": 42,
   "metadata": {
    "collapsed": false
   },
   "outputs": [
    {
     "data": {
      "text/plain": [
       "' Now lets try to answer some basic questions'"
      ]
     },
     "execution_count": 42,
     "metadata": {},
     "output_type": "execute_result"
    }
   ],
   "source": [
    "###################\n",
    "''' Now lets try to answer some basic questions'''"
   ]
  },
  {
   "cell_type": "code",
   "execution_count": 43,
   "metadata": {
    "collapsed": true
   },
   "outputs": [],
   "source": [
    "# Q1 Analyze and list the platforms with the most \"Editor's Choice\" awards?"
   ]
  },
  {
   "cell_type": "code",
   "execution_count": 44,
   "metadata": {
    "collapsed": true
   },
   "outputs": [],
   "source": [
    "#first lets find out the distribution for each platform\n",
    "d1 = input2.groupby('platform').editor_award.count()"
   ]
  },
  {
   "cell_type": "code",
   "execution_count": 45,
   "metadata": {
    "collapsed": false
   },
   "outputs": [
    {
     "data": {
      "text/plain": [
       "<matplotlib.axes._subplots.AxesSubplot at 0x7f93ed0c5d30>"
      ]
     },
     "execution_count": 45,
     "metadata": {},
     "output_type": "execute_result"
    },
    {
     "data": {
      "image/png": "[encoded data removed]",
      "text/plain": [
       "<matplotlib.figure.Figure at 0x7f93ecb8cd68>"
      ]
     },
     "metadata": {},
     "output_type": "display_data"
    }
   ],
   "source": [
    "d1.plot(kind='bar')"
   ]
  },
  {
   "cell_type": "code",
   "execution_count": 46,
   "metadata": {
    "collapsed": true
   },
   "outputs": [],
   "source": [
    "# Looks like some platforms are more popular that rest, lets find out"
   ]
  },
  {
   "cell_type": "code",
   "execution_count": 47,
   "metadata": {
    "collapsed": true
   },
   "outputs": [],
   "source": [
    "#Picking only the top 10 value\n",
    "d1 = d1.sort_values(ascending=False)[0:10]"
   ]
  },
  {
   "cell_type": "code",
   "execution_count": 48,
   "metadata": {
    "collapsed": false
   },
   "outputs": [
    {
     "data": {
      "text/plain": [
       "platform\n",
       "PC               3367\n",
       "PlayStation 2    1684\n",
       "Xbox 360         1631\n",
       "Wii              1362\n",
       "PlayStation 3    1355\n",
       "Nintendo DS      1044\n",
       "PlayStation       952\n",
       "Wireless          906\n",
       "iPhone            828\n",
       "Xbox              821\n",
       "Name: editor_award, dtype: int64"
      ]
     },
     "execution_count": 48,
     "metadata": {},
     "output_type": "execute_result"
    }
   ],
   "source": [
    "d1"
   ]
  },
  {
   "cell_type": "code",
   "execution_count": 49,
   "metadata": {
    "collapsed": false
   },
   "outputs": [
    {
     "data": {
      "text/plain": [
       "<matplotlib.axes._subplots.AxesSubplot at 0x7f93ec927470>"
      ]
     },
     "execution_count": 49,
     "metadata": {},
     "output_type": "execute_result"
    },
    {
     "data": {
      "image/png": "[encoded data removed]",
      "text/plain": [
       "<matplotlib.figure.Figure at 0x7f93ec92e860>"
      ]
     },
     "metadata": {},
     "output_type": "display_data"
    }
   ],
   "source": [
    "d1.plot(\"pie\")"
   ]
  },
  {
   "cell_type": "code",
   "execution_count": 50,
   "metadata": {
    "collapsed": false
   },
   "outputs": [
    {
     "data": {
      "text/plain": [
       "<matplotlib.axes._subplots.AxesSubplot at 0x7f93ec937ac8>"
      ]
     },
     "execution_count": 50,
     "metadata": {},
     "output_type": "execute_result"
    },
    {
     "data": {
      "image/png": "[encoded data removed]",
      "text/plain": [
       "<matplotlib.figure.Figure at 0x7f93ec8ffb00>"
      ]
     },
     "metadata": {},
     "output_type": "display_data"
    }
   ],
   "source": [
    "d1.plot(kind='barh')"
   ]
  },
  {
   "cell_type": "code",
   "execution_count": 51,
   "metadata": {
    "collapsed": true
   },
   "outputs": [],
   "source": [
    "#Clearly PC is the most prefered platform, with the second and 3rd rankers almost 50% below the first"
   ]
  },
  {
   "cell_type": "code",
   "execution_count": 52,
   "metadata": {
    "collapsed": true
   },
   "outputs": [],
   "source": [
    "###Lets answer another question\n",
    "#Does number of games by a platform in a given year have any effect on these awards?"
   ]
  },
  {
   "cell_type": "code",
   "execution_count": 53,
   "metadata": {
    "collapsed": false
   },
   "outputs": [],
   "source": [
    "d2 = input2.groupby(['platform','release_year']).editor_award.sum()"
   ]
  },
  {
   "cell_type": "code",
   "execution_count": 54,
   "metadata": {
    "collapsed": false
   },
   "outputs": [
    {
     "data": {
      "text/plain": [
       "platform             release_year\n",
       "Android              2010             1\n",
       "                     2011             1\n",
       "                     2012             1\n",
       "                     2013             0\n",
       "                     2014             1\n",
       "                     2015             0\n",
       "                     2016             0\n",
       "Arcade               2000             0\n",
       "                     2008             0\n",
       "                     2009             1\n",
       "                     2012             0\n",
       "Atari 2600           2008             0\n",
       "Atari 5200           2008             0\n",
       "Commodore 64/128     2008             0\n",
       "                     2009             0\n",
       "DVD / HD Video Game  2002             0\n",
       "Dreamcast            1999             5\n",
       "                     2000            29\n",
       "                     2001            23\n",
       "                     2002             2\n",
       "                     2006             0\n",
       "Dreamcast VMU        1999             0\n",
       "Game Boy             1999             2\n",
       "                     2000             0\n",
       "                     2008             0\n",
       "Game Boy Advance     2001            17\n",
       "                     2002            26\n",
       "                     2003            32\n",
       "                     2004            12\n",
       "                     2005             8\n",
       "                                     ..\n",
       "Xbox 360             2008            53\n",
       "                     2009            56\n",
       "                     2010            63\n",
       "                     2011            59\n",
       "                     2012            47\n",
       "                     2013            18\n",
       "                     2014            11\n",
       "                     2015             0\n",
       "Xbox One             2013             6\n",
       "                     2014            13\n",
       "                     2015            17\n",
       "                     2016             7\n",
       "iPad                 2010            14\n",
       "                     2011             5\n",
       "                     2012             8\n",
       "                     2013             1\n",
       "                     2014             2\n",
       "                     2015             0\n",
       "iPhone               2008            12\n",
       "                     2009            39\n",
       "                     2010            33\n",
       "                     2011            39\n",
       "                     2012            12\n",
       "                     2013            10\n",
       "                     2014             5\n",
       "                     2015             2\n",
       "                     2016             0\n",
       "iPod                 2006             0\n",
       "                     2007             2\n",
       "                     2008             1\n",
       "Name: editor_award, dtype: int64"
      ]
     },
     "execution_count": 54,
     "metadata": {},
     "output_type": "execute_result"
    }
   ],
   "source": [
    "d2"
   ]
  },
  {
   "cell_type": "code",
   "execution_count": 55,
   "metadata": {
    "collapsed": true
   },
   "outputs": [],
   "source": [
    "# Again lets pick the 10 ten values\n",
    "d2 = d2.sort_values(axis=0,ascending=False)[0:10]"
   ]
  },
  {
   "cell_type": "code",
   "execution_count": 56,
   "metadata": {
    "collapsed": false
   },
   "outputs": [
    {
     "data": {
      "text/plain": [
       "<matplotlib.axes._subplots.AxesSubplot at 0x7f93ec8762e8>"
      ]
     },
     "execution_count": 56,
     "metadata": {},
     "output_type": "execute_result"
    },
    {
     "data": {
      "image/png": "[encoded data removed]",
      "text/plain": [
       "<matplotlib.figure.Figure at 0x7f93ec870240>"
      ]
     },
     "metadata": {},
     "output_type": "display_data"
    }
   ],
   "source": [
    "d2.plot(kind='pie')"
   ]
  },
  {
   "cell_type": "code",
   "execution_count": 57,
   "metadata": {
    "collapsed": false
   },
   "outputs": [
    {
     "data": {
      "text/plain": [
       "<matplotlib.axes._subplots.AxesSubplot at 0x7f93ec805978>"
      ]
     },
     "execution_count": 57,
     "metadata": {},
     "output_type": "execute_result"
    },
    {
     "data": {
      "image/png": "[encoded data removed]",
      "text/plain": [
       "<matplotlib.figure.Figure at 0x7f93ec81a9b0>"
      ]
     },
     "metadata": {},
     "output_type": "display_data"
    }
   ],
   "source": [
    "d2.plot(kind='barh')"
   ]
  },
  {
   "cell_type": "code",
   "execution_count": 58,
   "metadata": {
    "collapsed": true
   },
   "outputs": [],
   "source": [
    "# Looks like the year in which a particular platform was released, affects the award it receives in that year. \n",
    "#initially we saw tha PC has the highest awards overall, but the release of Wireless in 2004 surpassed the scores\n",
    "# of both PC releases in 2003 and 2000"
   ]
  },
  {
   "cell_type": "code",
   "execution_count": 59,
   "metadata": {
    "collapsed": true
   },
   "outputs": [],
   "source": [
    "##Time for another question"
   ]
  },
  {
   "cell_type": "code",
   "execution_count": 60,
   "metadata": {
    "collapsed": true
   },
   "outputs": [],
   "source": [
    "#What is Macintosh's average award count?"
   ]
  },
  {
   "cell_type": "code",
   "execution_count": 61,
   "metadata": {
    "collapsed": false
   },
   "outputs": [],
   "source": [
    "awards_mac = input2[input2['platform']=='Macintosh']['editor_award'].sum()"
   ]
  },
  {
   "cell_type": "code",
   "execution_count": 62,
   "metadata": {
    "collapsed": true
   },
   "outputs": [],
   "source": [
    "total_mac = input2[input2['platform']=='Macintosh']['editor_award'].count()"
   ]
  },
  {
   "cell_type": "code",
   "execution_count": 63,
   "metadata": {
    "collapsed": false
   },
   "outputs": [
    {
     "name": "stdout",
     "output_type": "stream",
     "text": [
      "Total MAC games released = 81\n",
      "MAC games with awards = 40\n"
     ]
    }
   ],
   "source": [
    "print (\"Total MAC games released = %d\"%total_mac)\n",
    "print (\"MAC games with awards = %d\"%awards_mac)"
   ]
  },
  {
   "cell_type": "code",
   "execution_count": 64,
   "metadata": {
    "collapsed": false
   },
   "outputs": [
    {
     "name": "stdout",
     "output_type": "stream",
     "text": [
      "On average MAC games are awarded 49.382716 percent of the time.\n"
     ]
    }
   ],
   "source": [
    "#The on an average the number of MAC awards = MAC games which received awards/Total MAC games release\n",
    "print (\"On average MAC games are awarded %f percent of the time.\"%(awards_mac/total_mac*100))"
   ]
  },
  {
   "cell_type": "code",
   "execution_count": 65,
   "metadata": {
    "collapsed": false
   },
   "outputs": [
    {
     "data": {
      "text/plain": [
       "platform   release_year\n",
       "Macintosh  2002            20\n",
       "           2003             2\n",
       "           2012             7\n",
       "           2013             7\n",
       "           2014             3\n",
       "           2015             0\n",
       "           2016             1\n",
       "Name: editor_award, dtype: int64"
      ]
     },
     "execution_count": 65,
     "metadata": {},
     "output_type": "execute_result"
    }
   ],
   "source": [
    "#Also \n",
    "input2[input2['platform']=='Macintosh'].groupby(['platform','release_year']).editor_award.sum()"
   ]
  },
  {
   "cell_type": "code",
   "execution_count": 66,
   "metadata": {
    "collapsed": true
   },
   "outputs": [],
   "source": [
    "Avg_mac=(20+2+7+7+3+0+1)/7"
   ]
  },
  {
   "cell_type": "code",
   "execution_count": 67,
   "metadata": {
    "collapsed": false
   },
   "outputs": [
    {
     "name": "stdout",
     "output_type": "stream",
     "text": [
      "The average awards for MAC over the years = 5.714286\n"
     ]
    }
   ],
   "source": [
    "print (\"The average awards for MAC over the years = %f\"%Avg_mac)"
   ]
  },
  {
   "cell_type": "code",
   "execution_count": 68,
   "metadata": {
    "collapsed": false
   },
   "outputs": [
    {
     "name": "stdout",
     "output_type": "stream",
     "text": [
      "The average awards for MAC between years 2013-2016 = 3.600000\n"
     ]
    }
   ],
   "source": [
    "print (\"The average awards for MAC between years 2013-2016 = %f\"%((7+7+3+0+1)/5))"
   ]
  },
  {
   "cell_type": "code",
   "execution_count": 69,
   "metadata": {
    "collapsed": true
   },
   "outputs": [],
   "source": [
    "# Looks like MAC popularilty among editor's is decreasing"
   ]
  },
  {
   "cell_type": "code",
   "execution_count": 70,
   "metadata": {
    "collapsed": true
   },
   "outputs": [],
   "source": [
    "#### Time for another question"
   ]
  },
  {
   "cell_type": "code",
   "execution_count": 71,
   "metadata": {
    "collapsed": false
   },
   "outputs": [],
   "source": [
    "#What is the optimal month for releasing a game? "
   ]
  },
  {
   "cell_type": "code",
   "execution_count": 72,
   "metadata": {
    "collapsed": false
   },
   "outputs": [
    {
     "data": {
      "text/plain": [
       "release_month\n",
       "11    514\n",
       "10    472\n",
       "9     406\n",
       "3     349\n",
       "2     288\n",
       "8     270\n",
       "6     251\n",
       "4     214\n",
       "12    193\n",
       "5     192\n",
       "7     186\n",
       "1     180\n",
       "Name: editor_award, dtype: int64"
      ]
     },
     "execution_count": 72,
     "metadata": {},
     "output_type": "execute_result"
    }
   ],
   "source": [
    "d4=input2.groupby('release_month').editor_award.sum()\n",
    "d4.sort_values(axis=0,ascending=False)[0:13]"
   ]
  },
  {
   "cell_type": "code",
   "execution_count": 73,
   "metadata": {
    "collapsed": true
   },
   "outputs": [],
   "source": [
    "# Looks like maximum awards are given in the month of Noverber, but is it the most optimal month?\n",
    "# We don't know yet"
   ]
  },
  {
   "cell_type": "code",
   "execution_count": 74,
   "metadata": {
    "collapsed": false
   },
   "outputs": [
    {
     "data": {
      "text/plain": [
       "release_month\n",
       "11    2655\n",
       "10    2306\n",
       "9     1701\n",
       "3     1565\n",
       "12    1504\n",
       "6     1481\n",
       "8     1334\n",
       "2     1327\n",
       "4     1262\n",
       "7     1188\n",
       "5     1141\n",
       "1     1125\n",
       "Name: editor_award, dtype: int64"
      ]
     },
     "execution_count": 74,
     "metadata": {},
     "output_type": "execute_result"
    }
   ],
   "source": [
    "d42=input2.groupby('release_month').editor_award.count()\n",
    "d42.sort_values(axis=0,ascending=False)[0:13]"
   ]
  },
  {
   "cell_type": "code",
   "execution_count": 75,
   "metadata": {
    "collapsed": false
   },
   "outputs": [],
   "source": [
    "# Hmm maximum releases also happen in November. \n",
    "# lets see how optimal these months actually are"
   ]
  },
  {
   "cell_type": "code",
   "execution_count": 76,
   "metadata": {
    "collapsed": true
   },
   "outputs": [],
   "source": [
    "d43=d4/d42*100"
   ]
  },
  {
   "cell_type": "code",
   "execution_count": 77,
   "metadata": {
    "collapsed": false
   },
   "outputs": [
    {
     "data": {
      "text/plain": [
       "release_month\n",
       "9     23.868313\n",
       "3     22.300319\n",
       "2     21.703090\n",
       "10    20.468343\n",
       "8     20.239880\n",
       "11    19.359699\n",
       "4     16.957211\n",
       "6     16.948008\n",
       "5     16.827344\n",
       "1     16.000000\n",
       "7     15.656566\n",
       "12    12.832447\n",
       "Name: editor_award, dtype: float64"
      ]
     },
     "execution_count": 77,
     "metadata": {},
     "output_type": "execute_result"
    }
   ],
   "source": [
    "d43.sort_values(axis=0,ascending=False)[0:13]"
   ]
  },
  {
   "cell_type": "code",
   "execution_count": 78,
   "metadata": {
    "collapsed": true
   },
   "outputs": [],
   "source": [
    "# Okay, now that is very different story. Our supposedly favourite month seems to have slipped down\n",
    "# Let me explain what happended\n",
    "# Even though November has the maximum awards and release, but the ratio of awards/releases is low for it.\n",
    "# Which means that even though a high number of games get released, the propotional number do not get awarded.\n",
    "# Hence if you want to have maximum ROI, then release October"
   ]
  },
  {
   "cell_type": "code",
   "execution_count": 79,
   "metadata": {
    "collapsed": true
   },
   "outputs": [],
   "source": [
    "## lets answer another question\n",
    "#Analyze the percentage growth in the gaming industry over the years."
   ]
  },
  {
   "cell_type": "code",
   "execution_count": 80,
   "metadata": {
    "collapsed": true
   },
   "outputs": [],
   "source": [
    "d5=input2.groupby('release_year').editor_award.count()"
   ]
  },
  {
   "cell_type": "code",
   "execution_count": 81,
   "metadata": {
    "collapsed": false
   },
   "outputs": [
    {
     "data": {
      "text/plain": [
       "release_year\n",
       "1970       1\n",
       "1996     149\n",
       "1997     205\n",
       "1998     339\n",
       "1999     775\n",
       "2000    1045\n",
       "2001     688\n",
       "2002     936\n",
       "2003     969\n",
       "2004     997\n",
       "2005    1088\n",
       "2006    1208\n",
       "2007    1606\n",
       "2008    1909\n",
       "2009    1683\n",
       "2010    1356\n",
       "2011    1065\n",
       "2012     749\n",
       "2013     695\n",
       "2014     535\n",
       "2015     365\n",
       "2016     226\n",
       "Name: editor_award, dtype: int64"
      ]
     },
     "execution_count": 81,
     "metadata": {},
     "output_type": "execute_result"
    }
   ],
   "source": [
    "d5"
   ]
  },
  {
   "cell_type": "code",
   "execution_count": 82,
   "metadata": {
    "collapsed": true
   },
   "outputs": [],
   "source": [
    "#this function will calculate the % growth between 2 successive years\n",
    "def get_per(prev,newyr):\n",
    "    gp=(newyr-prev)/prev*100\n",
    "    return gp\n"
   ]
  },
  {
   "cell_type": "code",
   "execution_count": 83,
   "metadata": {
    "collapsed": true
   },
   "outputs": [],
   "source": [
    "d5_year_list=[]\n",
    "d5_growth_per_list=[]"
   ]
  },
  {
   "cell_type": "code",
   "execution_count": 84,
   "metadata": {
    "collapsed": false
   },
   "outputs": [],
   "source": [
    "for i in d5.iteritems():\n",
    "    if i[0]==1970:\n",
    "        val=0\n",
    "    else:\n",
    "        val=get_per(prev,i[1])\n",
    "    d5_year_list.append(i[0])\n",
    "    d5_growth_per_list.append(val)\n",
    "    prev=i[1]"
   ]
  },
  {
   "cell_type": "code",
   "execution_count": 85,
   "metadata": {
    "collapsed": false
   },
   "outputs": [
    {
     "data": {
      "text/plain": [
       "22"
      ]
     },
     "execution_count": 85,
     "metadata": {},
     "output_type": "execute_result"
    }
   ],
   "source": [
    "len(d5_growth_per_list)"
   ]
  },
  {
   "cell_type": "code",
   "execution_count": 86,
   "metadata": {
    "collapsed": false
   },
   "outputs": [
    {
     "data": {
      "text/plain": [
       "22"
      ]
     },
     "execution_count": 86,
     "metadata": {},
     "output_type": "execute_result"
    }
   ],
   "source": [
    "len(d5_year_list)"
   ]
  },
  {
   "cell_type": "code",
   "execution_count": 87,
   "metadata": {
    "collapsed": false
   },
   "outputs": [
    {
     "data": {
      "text/plain": [
       "<matplotlib.text.Text at 0x7f93ec6ad198>"
      ]
     },
     "execution_count": 87,
     "metadata": {},
     "output_type": "execute_result"
    },
    {
     "data": {
      "image/png": "[encoded data removed]",
      "text/plain": [
       "<matplotlib.figure.Figure at 0x7f93ec6f38d0>"
      ]
     },
     "metadata": {},
     "output_type": "display_data"
    }
   ],
   "source": [
    "# lets visualize these values\n",
    "plt.plot(d5_year_list,d5_growth_per_list)\n",
    "plt.xlabel(\"year\")\n",
    "plt.ylabel(\"percent_growth\")"
   ]
  },
  {
   "cell_type": "code",
   "execution_count": 88,
   "metadata": {
    "collapsed": false
   },
   "outputs": [
    {
     "data": {
      "text/plain": [
       "<matplotlib.text.Text at 0x7f93ec628128>"
      ]
     },
     "execution_count": 88,
     "metadata": {},
     "output_type": "execute_result"
    },
    {
     "data": {
      "image/png": "[encoded data removed]",
      "text/plain": [
       "<matplotlib.figure.Figure at 0x7f93ec67c860>"
      ]
     },
     "metadata": {},
     "output_type": "display_data"
    }
   ],
   "source": [
    "# This does not give us a good picture, let plot the pre and post 2000 era separtely\n",
    "plt.plot(d5_year_list[:4],d5_growth_per_list[:4])\n",
    "plt.xlabel(\"year\")\n",
    "plt.ylabel(\"percent_growth\")\n",
    "plt.title(\"Pre 2000 era\")"
   ]
  },
  {
   "cell_type": "code",
   "execution_count": 89,
   "metadata": {
    "collapsed": false
   },
   "outputs": [
    {
     "data": {
      "text/plain": [
       "<matplotlib.text.Text at 0x7f93ec60bc50>"
      ]
     },
     "execution_count": 89,
     "metadata": {},
     "output_type": "execute_result"
    },
    {
     "data": {
      "image/png": "[encoded data removed]",
      "text/plain": [
       "<matplotlib.figure.Figure at 0x7f93ec5ed8d0>"
      ]
     },
     "metadata": {},
     "output_type": "display_data"
    }
   ],
   "source": [
    "plt.plot(d5_year_list[5:],d5_growth_per_list[5:])\n",
    "plt.xlabel(\"year\")\n",
    "plt.ylabel(\"percent_growth\")\n",
    "plt.title(\"Pre 2000 era\")"
   ]
  },
  {
   "cell_type": "code",
   "execution_count": 90,
   "metadata": {
    "collapsed": true
   },
   "outputs": [],
   "source": [
    "# This looks more interesting\n",
    "# One thing is clear that the gaming industry does not see monotic success or failure.\n",
    "# Maybe the peaks and vally can be explained by the release, or downfall of some popular tehcnology of that era"
   ]
  },
  {
   "cell_type": "code",
   "execution_count": 91,
   "metadata": {
    "collapsed": true
   },
   "outputs": [],
   "source": [
    "## PREDICTION TIME ######"
   ]
  },
  {
   "cell_type": "code",
   "execution_count": 92,
   "metadata": {
    "collapsed": false
   },
   "outputs": [
    {
     "data": {
      "text/html": [
       "<div>\n",
       "<table border=\"1\" class=\"dataframe\">\n",
       "  <thead>\n",
       "    <tr style=\"text-align: right;\">\n",
       "      <th></th>\n",
       "      <th>Unnamed: 0</th>\n",
       "      <th>score_phrase</th>\n",
       "      <th>title</th>\n",
       "      <th>url</th>\n",
       "      <th>platform</th>\n",
       "      <th>score</th>\n",
       "      <th>genre</th>\n",
       "      <th>editors_choice</th>\n",
       "      <th>release_year</th>\n",
       "      <th>release_month</th>\n",
       "      <th>release_day</th>\n",
       "      <th>score_phrase_new</th>\n",
       "      <th>category_score</th>\n",
       "      <th>editor_award</th>\n",
       "    </tr>\n",
       "  </thead>\n",
       "  <tbody>\n",
       "    <tr>\n",
       "      <th>0</th>\n",
       "      <td>0</td>\n",
       "      <td>Amazing</td>\n",
       "      <td>LittleBigPlanet PS Vita</td>\n",
       "      <td>/games/littlebigplanet-vita/vita-98907</td>\n",
       "      <td>PlayStation Vita</td>\n",
       "      <td>9.0</td>\n",
       "      <td>Platformer</td>\n",
       "      <td>Y</td>\n",
       "      <td>2012</td>\n",
       "      <td>9</td>\n",
       "      <td>12</td>\n",
       "      <td>Amazing</td>\n",
       "      <td>9</td>\n",
       "      <td>1</td>\n",
       "    </tr>\n",
       "    <tr>\n",
       "      <th>1</th>\n",
       "      <td>1</td>\n",
       "      <td>Amazing</td>\n",
       "      <td>LittleBigPlanet PS Vita -- Marvel Super Hero E...</td>\n",
       "      <td>/games/littlebigplanet-ps-vita-marvel-super-he...</td>\n",
       "      <td>PlayStation Vita</td>\n",
       "      <td>9.0</td>\n",
       "      <td>Platformer</td>\n",
       "      <td>Y</td>\n",
       "      <td>2012</td>\n",
       "      <td>9</td>\n",
       "      <td>12</td>\n",
       "      <td>Amazing</td>\n",
       "      <td>9</td>\n",
       "      <td>1</td>\n",
       "    </tr>\n",
       "  </tbody>\n",
       "</table>\n",
       "</div>"
      ],
      "text/plain": [
       "   Unnamed: 0 score_phrase                                              title  \\\n",
       "0           0      Amazing                            LittleBigPlanet PS Vita   \n",
       "1           1      Amazing  LittleBigPlanet PS Vita -- Marvel Super Hero E...   \n",
       "\n",
       "                                                 url          platform  score  \\\n",
       "0             /games/littlebigplanet-vita/vita-98907  PlayStation Vita    9.0   \n",
       "1  /games/littlebigplanet-ps-vita-marvel-super-he...  PlayStation Vita    9.0   \n",
       "\n",
       "        genre editors_choice  release_year  release_month  release_day  \\\n",
       "0  Platformer              Y          2012              9           12   \n",
       "1  Platformer              Y          2012              9           12   \n",
       "\n",
       "  score_phrase_new  category_score  editor_award  \n",
       "0          Amazing               9             1  \n",
       "1          Amazing               9             1  "
      ]
     },
     "execution_count": 92,
     "metadata": {},
     "output_type": "execute_result"
    }
   ],
   "source": [
    "input2.head(2)"
   ]
  },
  {
   "cell_type": "code",
   "execution_count": 93,
   "metadata": {
    "collapsed": true
   },
   "outputs": [],
   "source": [
    "# First lets see what values we will use for prediction, the Unamenumber and the url are of no use to use.\n",
    "# Also, as seen previously score and score_phare values are correlated hence we can drop the phrase categories\n",
    "# We also converted the editor's choice Y/N values to 1/0, so we can use the numerical ones only as they convey the same information\n"
   ]
  },
  {
   "cell_type": "code",
   "execution_count": 94,
   "metadata": {
    "collapsed": true
   },
   "outputs": [],
   "source": [
    "df = input2[['score','title','genre','platform','release_year','release_month','release_day','editor_award']]"
   ]
  },
  {
   "cell_type": "code",
   "execution_count": 95,
   "metadata": {
    "collapsed": false
   },
   "outputs": [
    {
     "data": {
      "text/html": [
       "<div>\n",
       "<table border=\"1\" class=\"dataframe\">\n",
       "  <thead>\n",
       "    <tr style=\"text-align: right;\">\n",
       "      <th></th>\n",
       "      <th>score</th>\n",
       "      <th>title</th>\n",
       "      <th>genre</th>\n",
       "      <th>platform</th>\n",
       "      <th>release_year</th>\n",
       "      <th>release_month</th>\n",
       "      <th>release_day</th>\n",
       "      <th>editor_award</th>\n",
       "    </tr>\n",
       "  </thead>\n",
       "  <tbody>\n",
       "    <tr>\n",
       "      <th>0</th>\n",
       "      <td>9.0</td>\n",
       "      <td>LittleBigPlanet PS Vita</td>\n",
       "      <td>Platformer</td>\n",
       "      <td>PlayStation Vita</td>\n",
       "      <td>2012</td>\n",
       "      <td>9</td>\n",
       "      <td>12</td>\n",
       "      <td>1</td>\n",
       "    </tr>\n",
       "    <tr>\n",
       "      <th>1</th>\n",
       "      <td>9.0</td>\n",
       "      <td>LittleBigPlanet PS Vita -- Marvel Super Hero E...</td>\n",
       "      <td>Platformer</td>\n",
       "      <td>PlayStation Vita</td>\n",
       "      <td>2012</td>\n",
       "      <td>9</td>\n",
       "      <td>12</td>\n",
       "      <td>1</td>\n",
       "    </tr>\n",
       "    <tr>\n",
       "      <th>2</th>\n",
       "      <td>8.5</td>\n",
       "      <td>Splice: Tree of Life</td>\n",
       "      <td>Puzzle</td>\n",
       "      <td>iPad</td>\n",
       "      <td>2012</td>\n",
       "      <td>9</td>\n",
       "      <td>12</td>\n",
       "      <td>0</td>\n",
       "    </tr>\n",
       "    <tr>\n",
       "      <th>3</th>\n",
       "      <td>8.5</td>\n",
       "      <td>NHL 13</td>\n",
       "      <td>Sports</td>\n",
       "      <td>Xbox 360</td>\n",
       "      <td>2012</td>\n",
       "      <td>9</td>\n",
       "      <td>11</td>\n",
       "      <td>0</td>\n",
       "    </tr>\n",
       "    <tr>\n",
       "      <th>4</th>\n",
       "      <td>8.5</td>\n",
       "      <td>NHL 13</td>\n",
       "      <td>Sports</td>\n",
       "      <td>PlayStation 3</td>\n",
       "      <td>2012</td>\n",
       "      <td>9</td>\n",
       "      <td>11</td>\n",
       "      <td>0</td>\n",
       "    </tr>\n",
       "  </tbody>\n",
       "</table>\n",
       "</div>"
      ],
      "text/plain": [
       "   score                                              title       genre  \\\n",
       "0    9.0                            LittleBigPlanet PS Vita  Platformer   \n",
       "1    9.0  LittleBigPlanet PS Vita -- Marvel Super Hero E...  Platformer   \n",
       "2    8.5                               Splice: Tree of Life      Puzzle   \n",
       "3    8.5                                             NHL 13      Sports   \n",
       "4    8.5                                             NHL 13      Sports   \n",
       "\n",
       "           platform  release_year  release_month  release_day  editor_award  \n",
       "0  PlayStation Vita          2012              9           12             1  \n",
       "1  PlayStation Vita          2012              9           12             1  \n",
       "2              iPad          2012              9           12             0  \n",
       "3          Xbox 360          2012              9           11             0  \n",
       "4     PlayStation 3          2012              9           11             0  "
      ]
     },
     "execution_count": 95,
     "metadata": {},
     "output_type": "execute_result"
    }
   ],
   "source": [
    "df.head()"
   ]
  },
  {
   "cell_type": "code",
   "execution_count": 96,
   "metadata": {
    "collapsed": true
   },
   "outputs": [],
   "source": [
    "# But Genre and platforms are categorical values, we need to convert them to numerical  before further usage.\n",
    "from sklearn import preprocessing\n",
    "le_transform = preprocessing.LabelEncoder()"
   ]
  },
  {
   "cell_type": "code",
   "execution_count": 97,
   "metadata": {
    "collapsed": false
   },
   "outputs": [
    {
     "name": "stderr",
     "output_type": "stream",
     "text": [
      "/usr/lib/python3.5/site-packages/IPython/kernel/__main__.py:1: SettingWithCopyWarning: \n",
      "A value is trying to be set on a copy of a slice from a DataFrame.\n",
      "Try using .loc[row_indexer,col_indexer] = value instead\n",
      "\n",
      "See the caveats in the documentation: http://pandas.pydata.org/pandas-docs/stable/indexing.html#indexing-view-versus-copy\n",
      "  if __name__ == '__main__':\n"
     ]
    }
   ],
   "source": [
    "df['genre_en'] = le_transform.fit_transform(df['genre'])"
   ]
  },
  {
   "cell_type": "code",
   "execution_count": 98,
   "metadata": {
    "collapsed": false
   },
   "outputs": [
    {
     "name": "stderr",
     "output_type": "stream",
     "text": [
      "/usr/lib/python3.5/site-packages/IPython/kernel/__main__.py:1: SettingWithCopyWarning: \n",
      "A value is trying to be set on a copy of a slice from a DataFrame.\n",
      "Try using .loc[row_indexer,col_indexer] = value instead\n",
      "\n",
      "See the caveats in the documentation: http://pandas.pydata.org/pandas-docs/stable/indexing.html#indexing-view-versus-copy\n",
      "  if __name__ == '__main__':\n"
     ]
    }
   ],
   "source": [
    "df['plat_en'] = le_transform.fit_transform(df['platform'])"
   ]
  },
  {
   "cell_type": "code",
   "execution_count": 99,
   "metadata": {
    "collapsed": false
   },
   "outputs": [
    {
     "data": {
      "text/html": [
       "<div>\n",
       "<table border=\"1\" class=\"dataframe\">\n",
       "  <thead>\n",
       "    <tr style=\"text-align: right;\">\n",
       "      <th></th>\n",
       "      <th>score</th>\n",
       "      <th>title</th>\n",
       "      <th>genre</th>\n",
       "      <th>platform</th>\n",
       "      <th>release_year</th>\n",
       "      <th>release_month</th>\n",
       "      <th>release_day</th>\n",
       "      <th>editor_award</th>\n",
       "      <th>genre_en</th>\n",
       "      <th>plat_en</th>\n",
       "    </tr>\n",
       "  </thead>\n",
       "  <tbody>\n",
       "    <tr>\n",
       "      <th>0</th>\n",
       "      <td>9.0</td>\n",
       "      <td>LittleBigPlanet PS Vita</td>\n",
       "      <td>Platformer</td>\n",
       "      <td>PlayStation Vita</td>\n",
       "      <td>2012</td>\n",
       "      <td>9</td>\n",
       "      <td>12</td>\n",
       "      <td>1</td>\n",
       "      <td>63</td>\n",
       "      <td>35</td>\n",
       "    </tr>\n",
       "    <tr>\n",
       "      <th>1</th>\n",
       "      <td>9.0</td>\n",
       "      <td>LittleBigPlanet PS Vita -- Marvel Super Hero E...</td>\n",
       "      <td>Platformer</td>\n",
       "      <td>PlayStation Vita</td>\n",
       "      <td>2012</td>\n",
       "      <td>9</td>\n",
       "      <td>12</td>\n",
       "      <td>1</td>\n",
       "      <td>63</td>\n",
       "      <td>35</td>\n",
       "    </tr>\n",
       "    <tr>\n",
       "      <th>2</th>\n",
       "      <td>8.5</td>\n",
       "      <td>Splice: Tree of Life</td>\n",
       "      <td>Puzzle</td>\n",
       "      <td>iPad</td>\n",
       "      <td>2012</td>\n",
       "      <td>9</td>\n",
       "      <td>12</td>\n",
       "      <td>0</td>\n",
       "      <td>68</td>\n",
       "      <td>56</td>\n",
       "    </tr>\n",
       "    <tr>\n",
       "      <th>3</th>\n",
       "      <td>8.5</td>\n",
       "      <td>NHL 13</td>\n",
       "      <td>Sports</td>\n",
       "      <td>Xbox 360</td>\n",
       "      <td>2012</td>\n",
       "      <td>9</td>\n",
       "      <td>11</td>\n",
       "      <td>0</td>\n",
       "      <td>93</td>\n",
       "      <td>54</td>\n",
       "    </tr>\n",
       "    <tr>\n",
       "      <th>4</th>\n",
       "      <td>8.5</td>\n",
       "      <td>NHL 13</td>\n",
       "      <td>Sports</td>\n",
       "      <td>PlayStation 3</td>\n",
       "      <td>2012</td>\n",
       "      <td>9</td>\n",
       "      <td>11</td>\n",
       "      <td>0</td>\n",
       "      <td>93</td>\n",
       "      <td>32</td>\n",
       "    </tr>\n",
       "  </tbody>\n",
       "</table>\n",
       "</div>"
      ],
      "text/plain": [
       "   score                                              title       genre  \\\n",
       "0    9.0                            LittleBigPlanet PS Vita  Platformer   \n",
       "1    9.0  LittleBigPlanet PS Vita -- Marvel Super Hero E...  Platformer   \n",
       "2    8.5                               Splice: Tree of Life      Puzzle   \n",
       "3    8.5                                             NHL 13      Sports   \n",
       "4    8.5                                             NHL 13      Sports   \n",
       "\n",
       "           platform  release_year  release_month  release_day  editor_award  \\\n",
       "0  PlayStation Vita          2012              9           12             1   \n",
       "1  PlayStation Vita          2012              9           12             1   \n",
       "2              iPad          2012              9           12             0   \n",
       "3          Xbox 360          2012              9           11             0   \n",
       "4     PlayStation 3          2012              9           11             0   \n",
       "\n",
       "   genre_en  plat_en  \n",
       "0        63       35  \n",
       "1        63       35  \n",
       "2        68       56  \n",
       "3        93       54  \n",
       "4        93       32  "
      ]
     },
     "execution_count": 99,
     "metadata": {},
     "output_type": "execute_result"
    }
   ],
   "source": [
    "df.head()"
   ]
  },
  {
   "cell_type": "code",
   "execution_count": 100,
   "metadata": {
    "collapsed": true
   },
   "outputs": [],
   "source": [
    "# Now lets split our dataset into test and train values"
   ]
  },
  {
   "cell_type": "code",
   "execution_count": 101,
   "metadata": {
    "collapsed": true
   },
   "outputs": [],
   "source": [
    "import numpy as np\n",
    "from sklearn.cross_validation import train_test_split\n",
    "\n",
    "train, test = train_test_split(df, test_size = 0.2)"
   ]
  },
  {
   "cell_type": "code",
   "execution_count": 102,
   "metadata": {
    "collapsed": false
   },
   "outputs": [
    {
     "data": {
      "text/plain": [
       "14871"
      ]
     },
     "execution_count": 102,
     "metadata": {},
     "output_type": "execute_result"
    }
   ],
   "source": [
    "len(train)"
   ]
  },
  {
   "cell_type": "code",
   "execution_count": 103,
   "metadata": {
    "collapsed": false
   },
   "outputs": [
    {
     "data": {
      "text/html": [
       "<div>\n",
       "<table border=\"1\" class=\"dataframe\">\n",
       "  <thead>\n",
       "    <tr style=\"text-align: right;\">\n",
       "      <th></th>\n",
       "      <th>score</th>\n",
       "      <th>title</th>\n",
       "      <th>genre</th>\n",
       "      <th>platform</th>\n",
       "      <th>release_year</th>\n",
       "      <th>release_month</th>\n",
       "      <th>release_day</th>\n",
       "      <th>editor_award</th>\n",
       "      <th>genre_en</th>\n",
       "      <th>plat_en</th>\n",
       "    </tr>\n",
       "  </thead>\n",
       "  <tbody>\n",
       "    <tr>\n",
       "      <th>14454</th>\n",
       "      <td>6.5</td>\n",
       "      <td>Fast &amp; Furious Adrenaline</td>\n",
       "      <td>Racing</td>\n",
       "      <td>iPhone</td>\n",
       "      <td>2010</td>\n",
       "      <td>4</td>\n",
       "      <td>23</td>\n",
       "      <td>0</td>\n",
       "      <td>80</td>\n",
       "      <td>57</td>\n",
       "    </tr>\n",
       "    <tr>\n",
       "      <th>11424</th>\n",
       "      <td>5.0</td>\n",
       "      <td>FaceBreaker</td>\n",
       "      <td>Sports</td>\n",
       "      <td>Xbox 360</td>\n",
       "      <td>2008</td>\n",
       "      <td>9</td>\n",
       "      <td>3</td>\n",
       "      <td>0</td>\n",
       "      <td>93</td>\n",
       "      <td>54</td>\n",
       "    </tr>\n",
       "    <tr>\n",
       "      <th>13518</th>\n",
       "      <td>7.3</td>\n",
       "      <td>Golvellius: Valley of Doom</td>\n",
       "      <td>Action, Adventure</td>\n",
       "      <td>iPhone</td>\n",
       "      <td>2009</td>\n",
       "      <td>9</td>\n",
       "      <td>22</td>\n",
       "      <td>0</td>\n",
       "      <td>1</td>\n",
       "      <td>57</td>\n",
       "    </tr>\n",
       "    <tr>\n",
       "      <th>6223</th>\n",
       "      <td>6.9</td>\n",
       "      <td>The Incredibles (Arcade)</td>\n",
       "      <td>Action</td>\n",
       "      <td>Wireless</td>\n",
       "      <td>2004</td>\n",
       "      <td>10</td>\n",
       "      <td>8</td>\n",
       "      <td>0</td>\n",
       "      <td>0</td>\n",
       "      <td>50</td>\n",
       "    </tr>\n",
       "    <tr>\n",
       "      <th>10926</th>\n",
       "      <td>6.0</td>\n",
       "      <td>Star Soldier R</td>\n",
       "      <td>Shooter</td>\n",
       "      <td>Wii</td>\n",
       "      <td>2008</td>\n",
       "      <td>5</td>\n",
       "      <td>19</td>\n",
       "      <td>0</td>\n",
       "      <td>86</td>\n",
       "      <td>46</td>\n",
       "    </tr>\n",
       "  </tbody>\n",
       "</table>\n",
       "</div>"
      ],
      "text/plain": [
       "       score                       title              genre  platform  \\\n",
       "14454    6.5   Fast & Furious Adrenaline             Racing    iPhone   \n",
       "11424    5.0                 FaceBreaker             Sports  Xbox 360   \n",
       "13518    7.3  Golvellius: Valley of Doom  Action, Adventure    iPhone   \n",
       "6223     6.9    The Incredibles (Arcade)             Action  Wireless   \n",
       "10926    6.0              Star Soldier R            Shooter       Wii   \n",
       "\n",
       "       release_year  release_month  release_day  editor_award  genre_en  \\\n",
       "14454          2010              4           23             0        80   \n",
       "11424          2008              9            3             0        93   \n",
       "13518          2009              9           22             0         1   \n",
       "6223           2004             10            8             0         0   \n",
       "10926          2008              5           19             0        86   \n",
       "\n",
       "       plat_en  \n",
       "14454       57  \n",
       "11424       54  \n",
       "13518       57  \n",
       "6223        50  \n",
       "10926       46  "
      ]
     },
     "execution_count": 103,
     "metadata": {},
     "output_type": "execute_result"
    }
   ],
   "source": [
    "train.head()"
   ]
  },
  {
   "cell_type": "code",
   "execution_count": 104,
   "metadata": {
    "collapsed": false
   },
   "outputs": [
    {
     "data": {
      "text/plain": [
       "3718"
      ]
     },
     "execution_count": 104,
     "metadata": {},
     "output_type": "execute_result"
    }
   ],
   "source": [
    "len(test)"
   ]
  },
  {
   "cell_type": "code",
   "execution_count": 105,
   "metadata": {
    "collapsed": false
   },
   "outputs": [
    {
     "data": {
      "text/html": [
       "<div>\n",
       "<table border=\"1\" class=\"dataframe\">\n",
       "  <thead>\n",
       "    <tr style=\"text-align: right;\">\n",
       "      <th></th>\n",
       "      <th>score</th>\n",
       "      <th>title</th>\n",
       "      <th>genre</th>\n",
       "      <th>platform</th>\n",
       "      <th>release_year</th>\n",
       "      <th>release_month</th>\n",
       "      <th>release_day</th>\n",
       "      <th>editor_award</th>\n",
       "      <th>genre_en</th>\n",
       "      <th>plat_en</th>\n",
       "    </tr>\n",
       "  </thead>\n",
       "  <tbody>\n",
       "    <tr>\n",
       "      <th>9675</th>\n",
       "      <td>6.5</td>\n",
       "      <td>Dungeons &amp; Dragons Tactics</td>\n",
       "      <td>RPG</td>\n",
       "      <td>PlayStation Portable</td>\n",
       "      <td>2007</td>\n",
       "      <td>9</td>\n",
       "      <td>4</td>\n",
       "      <td>0</td>\n",
       "      <td>75</td>\n",
       "      <td>34</td>\n",
       "    </tr>\n",
       "    <tr>\n",
       "      <th>17884</th>\n",
       "      <td>6.0</td>\n",
       "      <td>Pokemon Trading Card Game Online</td>\n",
       "      <td>Card</td>\n",
       "      <td>iPhone</td>\n",
       "      <td>2014</td>\n",
       "      <td>10</td>\n",
       "      <td>20</td>\n",
       "      <td>0</td>\n",
       "      <td>21</td>\n",
       "      <td>57</td>\n",
       "    </tr>\n",
       "    <tr>\n",
       "      <th>15056</th>\n",
       "      <td>6.0</td>\n",
       "      <td>Etrian Odyssey III: The Drowned City</td>\n",
       "      <td>RPG</td>\n",
       "      <td>Nintendo DS</td>\n",
       "      <td>2010</td>\n",
       "      <td>10</td>\n",
       "      <td>11</td>\n",
       "      <td>0</td>\n",
       "      <td>75</td>\n",
       "      <td>26</td>\n",
       "    </tr>\n",
       "    <tr>\n",
       "      <th>2317</th>\n",
       "      <td>8.3</td>\n",
       "      <td>Nightmare Creatures II</td>\n",
       "      <td>Adventure</td>\n",
       "      <td>PlayStation</td>\n",
       "      <td>2000</td>\n",
       "      <td>5</td>\n",
       "      <td>30</td>\n",
       "      <td>0</td>\n",
       "      <td>10</td>\n",
       "      <td>30</td>\n",
       "    </tr>\n",
       "    <tr>\n",
       "      <th>14428</th>\n",
       "      <td>6.0</td>\n",
       "      <td>Skate It</td>\n",
       "      <td>Sports</td>\n",
       "      <td>iPhone</td>\n",
       "      <td>2010</td>\n",
       "      <td>5</td>\n",
       "      <td>11</td>\n",
       "      <td>0</td>\n",
       "      <td>93</td>\n",
       "      <td>57</td>\n",
       "    </tr>\n",
       "  </tbody>\n",
       "</table>\n",
       "</div>"
      ],
      "text/plain": [
       "       score                                 title      genre  \\\n",
       "9675     6.5            Dungeons & Dragons Tactics        RPG   \n",
       "17884    6.0      Pokemon Trading Card Game Online       Card   \n",
       "15056    6.0  Etrian Odyssey III: The Drowned City        RPG   \n",
       "2317     8.3                Nightmare Creatures II  Adventure   \n",
       "14428    6.0                              Skate It     Sports   \n",
       "\n",
       "                   platform  release_year  release_month  release_day  \\\n",
       "9675   PlayStation Portable          2007              9            4   \n",
       "17884                iPhone          2014             10           20   \n",
       "15056           Nintendo DS          2010             10           11   \n",
       "2317            PlayStation          2000              5           30   \n",
       "14428                iPhone          2010              5           11   \n",
       "\n",
       "       editor_award  genre_en  plat_en  \n",
       "9675              0        75       34  \n",
       "17884             0        21       57  \n",
       "15056             0        75       26  \n",
       "2317              0        10       30  \n",
       "14428             0        93       57  "
      ]
     },
     "execution_count": 105,
     "metadata": {},
     "output_type": "execute_result"
    }
   ],
   "source": [
    "test.head()"
   ]
  },
  {
   "cell_type": "code",
   "execution_count": 106,
   "metadata": {
    "collapsed": false
   },
   "outputs": [
    {
     "data": {
      "text/plain": [
       "<matplotlib.text.Text at 0x7f93ec5633c8>"
      ]
     },
     "execution_count": 106,
     "metadata": {},
     "output_type": "execute_result"
    },
    {
     "data": {
      "image/png": "[encoded data removed]",
      "text/plain": [
       "<matplotlib.figure.Figure at 0x7f93ec64dbe0>"
      ]
     },
     "metadata": {},
     "output_type": "display_data"
    }
   ],
   "source": [
    "train['editor_award'].plot('hist')\n",
    "plt.title(\"1/0 value check for train data\")"
   ]
  },
  {
   "cell_type": "code",
   "execution_count": 107,
   "metadata": {
    "collapsed": false
   },
   "outputs": [
    {
     "data": {
      "text/plain": [
       "<matplotlib.text.Text at 0x7f93ec41f080>"
      ]
     },
     "execution_count": 107,
     "metadata": {},
     "output_type": "execute_result"
    },
    {
     "data": {
      "image/png": "[encoded data removed]",
      "text/plain": [
       "<matplotlib.figure.Figure at 0x7f93ec3fc358>"
      ]
     },
     "metadata": {},
     "output_type": "display_data"
    }
   ],
   "source": [
    "test['editor_award'].plot('hist')\n",
    "plt.title(\"1/0 value check for test data\")"
   ]
  },
  {
   "cell_type": "code",
   "execution_count": 108,
   "metadata": {
    "collapsed": true
   },
   "outputs": [],
   "source": [
    "#ok, both test and train have 1/0 values. We are good to go"
   ]
  },
  {
   "cell_type": "code",
   "execution_count": 109,
   "metadata": {
    "collapsed": true
   },
   "outputs": [],
   "source": [
    "# Lets try to see the relative importance of each variable in the whole dataset"
   ]
  },
  {
   "cell_type": "code",
   "execution_count": 110,
   "metadata": {
    "collapsed": true
   },
   "outputs": [],
   "source": [
    "from sklearn.ensemble import ExtraTreesClassifier\n",
    "ensmodel = ExtraTreesClassifier()"
   ]
  },
  {
   "cell_type": "code",
   "execution_count": 111,
   "metadata": {
    "collapsed": false
   },
   "outputs": [
    {
     "data": {
      "text/plain": [
       "ExtraTreesClassifier(bootstrap=False, class_weight=None, criterion='gini',\n",
       "           max_depth=None, max_features='auto', max_leaf_nodes=None,\n",
       "           min_samples_leaf=1, min_samples_split=2,\n",
       "           min_weight_fraction_leaf=0.0, n_estimators=10, n_jobs=1,\n",
       "           oob_score=False, random_state=None, verbose=0, warm_start=False)"
      ]
     },
     "execution_count": 111,
     "metadata": {},
     "output_type": "execute_result"
    }
   ],
   "source": [
    "ensmodel.fit(df[['score','genre_en','plat_en','release_year','release_month','release_day']], df[\"editor_award\"])"
   ]
  },
  {
   "cell_type": "code",
   "execution_count": 112,
   "metadata": {
    "collapsed": false
   },
   "outputs": [
    {
     "name": "stdout",
     "output_type": "stream",
     "text": [
      "[ 0.69809026  0.05576515  0.05014901  0.07948439  0.04705837  0.06945282]\n"
     ]
    }
   ],
   "source": [
    "print(ensmodel.feature_importances_)"
   ]
  },
  {
   "cell_type": "code",
   "execution_count": 113,
   "metadata": {
    "collapsed": true
   },
   "outputs": [],
   "source": [
    "# Lets build our first logistic model using only score and release year"
   ]
  },
  {
   "cell_type": "code",
   "execution_count": 114,
   "metadata": {
    "collapsed": true
   },
   "outputs": [],
   "source": [
    "import statsmodels.api as sm"
   ]
  },
  {
   "cell_type": "code",
   "execution_count": 115,
   "metadata": {
    "collapsed": true
   },
   "outputs": [],
   "source": [
    "logit = sm.Logit(train['editor_award'],train[['score','release_year']] )"
   ]
  },
  {
   "cell_type": "code",
   "execution_count": 116,
   "metadata": {
    "collapsed": false
   },
   "outputs": [
    {
     "name": "stdout",
     "output_type": "stream",
     "text": [
      "Optimization terminated successfully.\n",
      "         Current function value: 0.151670\n",
      "         Iterations 10\n",
      "                           Logit Regression Results                           \n",
      "==============================================================================\n",
      "Dep. Variable:           editor_award   No. Observations:                14871\n",
      "Model:                          Logit   Df Residuals:                    14869\n",
      "Method:                           MLE   Df Model:                            1\n",
      "Date:                Sat, 08 Oct 2016   Pseudo R-squ.:                  0.6891\n",
      "Time:                        22:16:43   Log-Likelihood:                -2255.5\n",
      "converged:                       True   LL-Null:                       -7254.5\n",
      "                                        LLR p-value:                     0.000\n",
      "================================================================================\n",
      "                   coef    std err          z      P>|z|      [95.0% Conf. Int.]\n",
      "--------------------------------------------------------------------------------\n",
      "score            4.9944      0.110     45.285      0.000         4.778     5.211\n",
      "release_year    -0.0211      0.000    -45.588      0.000        -0.022    -0.020\n",
      "================================================================================\n",
      "\n",
      "Possibly complete quasi-separation: A fraction 0.35 of observations can be\n",
      "perfectly predicted. This might indicate that there is complete\n",
      "quasi-separation. In this case some parameters will not be identified.\n"
     ]
    }
   ],
   "source": [
    "result = logit.fit()\n",
    "print (result.summary())"
   ]
  },
  {
   "cell_type": "code",
   "execution_count": 117,
   "metadata": {
    "collapsed": false
   },
   "outputs": [
    {
     "name": "stdout",
     "output_type": "stream",
     "text": [
      "Optimization terminated successfully.\n",
      "         Current function value: 0.145626\n",
      "         Iterations 10\n",
      "                           Logit Regression Results                           \n",
      "==============================================================================\n",
      "Dep. Variable:           editor_award   No. Observations:                14871\n",
      "Model:                          Logit   Df Residuals:                    14865\n",
      "Method:                           MLE   Df Model:                            5\n",
      "Date:                Sat, 08 Oct 2016   Pseudo R-squ.:                  0.7015\n",
      "Time:                        22:16:44   Log-Likelihood:                -2165.6\n",
      "converged:                       True   LL-Null:                       -7254.5\n",
      "                                        LLR p-value:                     0.000\n",
      "=================================================================================\n",
      "                    coef    std err          z      P>|z|      [95.0% Conf. Int.]\n",
      "---------------------------------------------------------------------------------\n",
      "score             5.2407      0.117     44.657      0.000         5.011     5.471\n",
      "genre_en         -0.0007      0.001     -0.665      0.506        -0.003     0.001\n",
      "plat_en           0.0361      0.003     12.228      0.000         0.030     0.042\n",
      "release_year     -0.0226      0.001    -44.316      0.000        -0.024    -0.022\n",
      "release_month    -0.0479      0.011     -4.171      0.000        -0.070    -0.025\n",
      "release_day      -0.0045      0.005     -0.999      0.318        -0.013     0.004\n",
      "=================================================================================\n",
      "\n",
      "Possibly complete quasi-separation: A fraction 0.36 of observations can be\n",
      "perfectly predicted. This might indicate that there is complete\n",
      "quasi-separation. In this case some parameters will not be identified.\n"
     ]
    }
   ],
   "source": [
    "# Also, lets build a model with all factors\n",
    "logit = sm.Logit(train['editor_award'],train[['score','genre_en','plat_en','release_year','release_month','release_day']] )\n",
    "result = logit.fit()\n",
    "print (result.summary())"
   ]
  },
  {
   "cell_type": "code",
   "execution_count": 118,
   "metadata": {
    "collapsed": true
   },
   "outputs": [],
   "source": [
    "# Ok, so going from 2 variable model to 6 variable model our R-squ value changed from 0.6894 to 0.6993"
   ]
  },
  {
   "cell_type": "code",
   "execution_count": 119,
   "metadata": {
    "collapsed": true
   },
   "outputs": [],
   "source": [
    "# Lets try and plot each variable univariately and see the results"
   ]
  },
  {
   "cell_type": "code",
   "execution_count": 120,
   "metadata": {
    "collapsed": true
   },
   "outputs": [],
   "source": [
    "from sklearn.linear_model import LogisticRegression\n",
    "from sklearn import metrics\n",
    "from sklearn.cross_validation import cross_val_score\n",
    "model = LogisticRegression()"
   ]
  },
  {
   "cell_type": "code",
   "execution_count": 121,
   "metadata": {
    "collapsed": true
   },
   "outputs": [],
   "source": [
    "def sample_single_col(col_value):\n",
    "    l1=len(train)\n",
    "    l2=len(test)\n",
    "    X_train=train[col_value].reshape(l1,1)\n",
    "    y_train=train['editor_award'].reshape(l1,1)\n",
    "    X_test=test[col_value].reshape(l2,1)\n",
    "    y_test=test['editor_award'].reshape(l2,1)\n",
    "    return (X_train,y_train, X_test, y_test)"
   ]
  },
  {
   "cell_type": "code",
   "execution_count": 122,
   "metadata": {
    "collapsed": false
   },
   "outputs": [
    {
     "name": "stderr",
     "output_type": "stream",
     "text": [
      "/usr/lib64/python3.5/site-packages/sklearn/utils/validation.py:515: DataConversionWarning: A column-vector y was passed when a 1d array was expected. Please change the shape of y to (n_samples, ), for example using ravel().\n",
      "  y = column_or_1d(y, warn=True)\n",
      "/usr/lib64/python3.5/site-packages/sklearn/utils/validation.py:515: DataConversionWarning: A column-vector y was passed when a 1d array was expected. Please change the shape of y to (n_samples, ), for example using ravel().\n",
      "  y = column_or_1d(y, warn=True)\n",
      "/usr/lib64/python3.5/site-packages/sklearn/utils/validation.py:515: DataConversionWarning: A column-vector y was passed when a 1d array was expected. Please change the shape of y to (n_samples, ), for example using ravel().\n",
      "  y = column_or_1d(y, warn=True)\n",
      "/usr/lib64/python3.5/site-packages/sklearn/utils/validation.py:515: DataConversionWarning: A column-vector y was passed when a 1d array was expected. Please change the shape of y to (n_samples, ), for example using ravel().\n",
      "  y = column_or_1d(y, warn=True)\n"
     ]
    },
    {
     "name": "stdout",
     "output_type": "stream",
     "text": [
      "*******************************\n",
      "Col value =score\n",
      "Model score = 0.920113\n",
      "Model accuracy = 0.928187\n",
      "*******************************\n",
      "Col value =genre_en\n",
      "Model score = 0.808890\n",
      "Model accuracy = 0.818989\n",
      "*******************************\n",
      "Col value =plat_en\n",
      "Model score = 0.808890\n",
      "Model accuracy = 0.818989\n",
      "*******************************\n",
      "Col value =release_year\n",
      "Model score = 0.808890\n",
      "Model accuracy = 0.818989\n",
      "*******************************\n",
      "Col value =release_month\n",
      "Model score = 0.808890\n",
      "Model accuracy = 0.818989\n",
      "*******************************\n",
      "Col value =release_day\n",
      "Model score = 0.808890\n",
      "Model accuracy = 0.818989\n"
     ]
    },
    {
     "name": "stderr",
     "output_type": "stream",
     "text": [
      "/usr/lib64/python3.5/site-packages/sklearn/utils/validation.py:515: DataConversionWarning: A column-vector y was passed when a 1d array was expected. Please change the shape of y to (n_samples, ), for example using ravel().\n",
      "  y = column_or_1d(y, warn=True)\n",
      "/usr/lib64/python3.5/site-packages/sklearn/utils/validation.py:515: DataConversionWarning: A column-vector y was passed when a 1d array was expected. Please change the shape of y to (n_samples, ), for example using ravel().\n",
      "  y = column_or_1d(y, warn=True)\n"
     ]
    }
   ],
   "source": [
    "#only socres\n",
    "col_list=['score','genre_en','plat_en','release_year','release_month','release_day']\n",
    "for value in col_list:\n",
    "    X_train,y_train, X_test, y_test=sample_single_col(value)\n",
    "    m=model.fit(X_train,y_train)\n",
    "    print (\"*******************************\")\n",
    "    print (\"Col value =%s\"%value)\n",
    "    print (\"Model score = %f\"%m.score(X_train,y_train))\n",
    "    predicted=m.predict(X_test)\n",
    "    print (\"Model accuracy = %f\"%metrics.accuracy_score(y_test,predicted))"
   ]
  },
  {
   "cell_type": "code",
   "execution_count": 123,
   "metadata": {
    "collapsed": true
   },
   "outputs": [],
   "source": [
    "#Looks like score has the maximum influence on prediction and rest of the factors don't contribute much"
   ]
  },
  {
   "cell_type": "code",
   "execution_count": 127,
   "metadata": {
    "collapsed": true
   },
   "outputs": [],
   "source": [
    "def sample_df1(col_values):\n",
    "    l1=len(train)\n",
    "    l2=len(test)\n",
    "    X_train=train[col_values]\n",
    "    y_train=train['editor_award']\n",
    "    X_test=test[col_values]\n",
    "    y_test=test['editor_award']\n",
    "    return (X_train,y_train, X_test, y_test)"
   ]
  },
  {
   "cell_type": "code",
   "execution_count": 128,
   "metadata": {
    "collapsed": true
   },
   "outputs": [],
   "source": [
    "import itertools"
   ]
  },
  {
   "cell_type": "code",
   "execution_count": 134,
   "metadata": {
    "collapsed": false
   },
   "outputs": [],
   "source": [
    "col_lst = ['score','genre_en','plat_en','release_year','release_month','release_day']\n",
    "result=[]\n",
    "for L in range(0, len(col_list)+1):\n",
    "    for subset in itertools.combinations(col_list, L):\n",
    "        l=list(subset)\n",
    "        if len(l)>1 and 'score' in l:\n",
    "            rd={}\n",
    "            X_train,y_train, X_test, y_test=sample_df1(l)\n",
    "            m=model.fit(X_train,y_train)\n",
    "            rd[\"Attributes\"]=l\n",
    "            predicted=m.predict(X_test)\n",
    "            rd[\"Model_accu\"]=metrics.accuracy_score(y_test,predicted)*100\n",
    "            result.append(rd)           "
   ]
  },
  {
   "cell_type": "code",
   "execution_count": 139,
   "metadata": {
    "collapsed": false
   },
   "outputs": [
    {
     "name": "stdout",
     "output_type": "stream",
     "text": [
      "{'Model_accu': 93.114577729962349, 'Attributes': ['score', 'genre_en']}\n",
      "{'Model_accu': 93.302850995158693, 'Attributes': ['score', 'plat_en', 'release_year', 'release_day']}\n",
      "{'Model_accu': 93.329747175901019, 'Attributes': ['score', 'plat_en', 'release_year']}\n",
      "{'Model_accu': 93.35664335664336, 'Attributes': ['score', 'genre_en', 'plat_en', 'release_year']}\n",
      "{'Model_accu': 93.35664335664336, 'Attributes': ['score', 'genre_en', 'plat_en', 'release_year', 'release_day']}\n",
      "{'Model_accu': 93.437331898870355, 'Attributes': ['score', 'genre_en', 'release_day']}\n",
      "{'Model_accu': 93.518020441097363, 'Attributes': ['score', 'genre_en', 'plat_en']}\n",
      "{'Model_accu': 93.544916621839704, 'Attributes': ['score', 'plat_en']}\n",
      "{'Model_accu': 93.544916621839704, 'Attributes': ['score', 'plat_en', 'release_day']}\n",
      "{'Model_accu': 93.544916621839704, 'Attributes': ['score', 'genre_en', 'plat_en', 'release_day']}\n",
      "{'Model_accu': 93.571812802582031, 'Attributes': ['score', 'release_day']}\n",
      "{'Model_accu': 93.571812802582031, 'Attributes': ['score', 'plat_en', 'release_year', 'release_month', 'release_day']}\n",
      "{'Model_accu': 93.598708983324357, 'Attributes': ['score', 'genre_en', 'plat_en', 'release_year', 'release_month', 'release_day']}\n",
      "{'Model_accu': 93.625605164066712, 'Attributes': ['score', 'plat_en', 'release_month']}\n",
      "{'Model_accu': 93.625605164066712, 'Attributes': ['score', 'genre_en', 'plat_en', 'release_month']}\n",
      "{'Model_accu': 93.625605164066712, 'Attributes': ['score', 'genre_en', 'release_month', 'release_day']}\n",
      "{'Model_accu': 93.652501344809039, 'Attributes': ['score', 'genre_en', 'release_month']}\n",
      "{'Model_accu': 93.652501344809039, 'Attributes': ['score', 'release_month', 'release_day']}\n",
      "{'Model_accu': 93.652501344809039, 'Attributes': ['score', 'plat_en', 'release_year', 'release_month']}\n",
      "{'Model_accu': 93.652501344809039, 'Attributes': ['score', 'genre_en', 'plat_en', 'release_year', 'release_month']}\n",
      "{'Model_accu': 93.679397525551366, 'Attributes': ['score', 'genre_en', 'plat_en', 'release_month', 'release_day']}\n",
      "{'Model_accu': 93.733189887036033, 'Attributes': ['score', 'release_month']}\n",
      "{'Model_accu': 93.733189887036033, 'Attributes': ['score', 'release_year', 'release_month']}\n",
      "{'Model_accu': 93.733189887036033, 'Attributes': ['score', 'genre_en', 'release_year', 'release_month']}\n",
      "{'Model_accu': 93.760086067778374, 'Attributes': ['score', 'plat_en', 'release_month', 'release_day']}\n",
      "{'Model_accu': 93.760086067778374, 'Attributes': ['score', 'release_year', 'release_month', 'release_day']}\n",
      "{'Model_accu': 93.786982248520715, 'Attributes': ['score', 'genre_en', 'release_year', 'release_month', 'release_day']}\n",
      "{'Model_accu': 93.813878429263042, 'Attributes': ['score', 'genre_en', 'release_year']}\n",
      "{'Model_accu': 93.89456697149005, 'Attributes': ['score', 'release_year']}\n",
      "{'Model_accu': 93.948359332974718, 'Attributes': ['score', 'genre_en', 'release_year', 'release_day']}\n",
      "{'Model_accu': 94.190424959655729, 'Attributes': ['score', 'release_year', 'release_day']}\n"
     ]
    }
   ],
   "source": [
    "newlist = sorted(result, key=lambda k: k['Model_accu'])\n",
    "for i in newlist:\n",
    "    print (i)  "
   ]
  },
  {
   "cell_type": "code",
   "execution_count": 137,
   "metadata": {
    "collapsed": true
   },
   "outputs": [],
   "source": [
    "## A model with all 6 values gives less accuracy that the combination of score, release_year, day\n",
    "## So lets build our final model on these 3 paramteres"
   ]
  },
  {
   "cell_type": "code",
   "execution_count": 140,
   "metadata": {
    "collapsed": false
   },
   "outputs": [
    {
     "name": "stdout",
     "output_type": "stream",
     "text": [
      "Optimization terminated successfully.\n",
      "         Current function value: 0.151648\n",
      "         Iterations 10\n",
      "                           Logit Regression Results                           \n",
      "==============================================================================\n",
      "Dep. Variable:           editor_award   No. Observations:                14871\n",
      "Model:                          Logit   Df Residuals:                    14868\n",
      "Method:                           MLE   Df Model:                            2\n",
      "Date:                Sat, 08 Oct 2016   Pseudo R-squ.:                  0.6891\n",
      "Time:                        22:27:51   Log-Likelihood:                -2255.2\n",
      "converged:                       True   LL-Null:                       -7254.5\n",
      "                                        LLR p-value:                     0.000\n",
      "================================================================================\n",
      "                   coef    std err          z      P>|z|      [95.0% Conf. Int.]\n",
      "--------------------------------------------------------------------------------\n",
      "score            4.9937      0.110     45.283      0.000         4.778     5.210\n",
      "release_year    -0.0211      0.000    -45.398      0.000        -0.022    -0.020\n",
      "release_day     -0.0036      0.004     -0.809      0.419        -0.012     0.005\n",
      "================================================================================\n",
      "\n",
      "Possibly complete quasi-separation: A fraction 0.35 of observations can be\n",
      "perfectly predicted. This might indicate that there is complete\n",
      "quasi-separation. In this case some parameters will not be identified.\n"
     ]
    }
   ],
   "source": [
    "logit_final = sm.Logit(train['editor_award'],train[['score','release_year','release_day']] )\n",
    "result = logit_final.fit()\n",
    "print (result.summary())"
   ]
  },
  {
   "cell_type": "code",
   "execution_count": 200,
   "metadata": {
    "collapsed": true
   },
   "outputs": [],
   "source": [
    "## Our Decision tree model\n",
    "from sklearn.tree import DecisionTreeClassifier, export_graphviz\n",
    "dtmodel = DecisionTreeClassifier(min_samples_split=100, random_state=99)\n"
   ]
  },
  {
   "cell_type": "code",
   "execution_count": 201,
   "metadata": {
    "collapsed": true
   },
   "outputs": [],
   "source": [
    "X_train,y_train,X_test,y_test=sample_df1(['score','release_year','release_day'])"
   ]
  },
  {
   "cell_type": "code",
   "execution_count": 202,
   "metadata": {
    "collapsed": false
   },
   "outputs": [
    {
     "data": {
      "text/plain": [
       "DecisionTreeClassifier(class_weight=None, criterion='gini', max_depth=None,\n",
       "            max_features=None, max_leaf_nodes=None, min_samples_leaf=1,\n",
       "            min_samples_split=100, min_weight_fraction_leaf=0.0,\n",
       "            presort=False, random_state=99, splitter='best')"
      ]
     },
     "execution_count": 202,
     "metadata": {},
     "output_type": "execute_result"
    }
   ],
   "source": [
    "dtmodel.fit(X_train, y_train)"
   ]
  },
  {
   "cell_type": "code",
   "execution_count": 203,
   "metadata": {
    "collapsed": true
   },
   "outputs": [],
   "source": [
    "def visualize_tree(tree, feature_names):\n",
    "    \"\"\"Create tree png using graphviz.\n",
    "\n",
    "    Args\n",
    "    ----\n",
    "    tree -- scikit-learn DecsisionTree.\n",
    "    feature_names -- list of feature names.\n",
    "    \"\"\"\n",
    "    \"\"\" this method is taked from\n",
    "    http://chrisstrelioff.ws/sandbox/2015/06/08/decision_trees_in_python_with_scikit_learn_and_pandas.html\"\"\"\n",
    "    with open(\"dt.dot\", 'w') as f:\n",
    "        export_graphviz(tree, out_file=f,\n",
    "                        feature_names=feature_names)\n",
    "\n",
    "    command = [\"dot\", \"-Tpdf\", \"dt.dot\", \"-o\", \"dt.pdf\"]\n",
    "    try:\n",
    "        subprocess.check_call(command)\n",
    "    except:\n",
    "        exit(\"Could not run dot, ie graphviz, to \"\n",
    "             \"produce visualization\")"
   ]
  },
  {
   "cell_type": "code",
   "execution_count": 204,
   "metadata": {
    "collapsed": false
   },
   "outputs": [],
   "source": [
    "visualize_tree(dtmodel, ['score','release_year','release_day'])"
   ]
  },
  {
   "cell_type": "code",
   "execution_count": 205,
   "metadata": {
    "collapsed": false
   },
   "outputs": [],
   "source": [
    "predicted = dtmodel.predict(test[['score','release_year','release_day']])"
   ]
  },
  {
   "cell_type": "code",
   "execution_count": 206,
   "metadata": {
    "collapsed": false
   },
   "outputs": [
    {
     "name": "stdout",
     "output_type": "stream",
     "text": [
      "             precision    recall  f1-score   support\n",
      "\n",
      "          0       0.98      0.98      0.98      3045\n",
      "          1       0.89      0.89      0.89       673\n",
      "\n",
      "avg / total       0.96      0.96      0.96      3718\n",
      "\n"
     ]
    }
   ],
   "source": [
    "print(metrics.classification_report(test['editor_award'], predicted))"
   ]
  },
  {
   "cell_type": "code",
   "execution_count": 207,
   "metadata": {
    "collapsed": false
   },
   "outputs": [
    {
     "name": "stdout",
     "output_type": "stream",
     "text": [
      "[[2974   71]\n",
      " [  74  599]]\n"
     ]
    }
   ],
   "source": [
    "print((metrics.confusion_matrix(test['editor_award'], predicted)))"
   ]
  },
  {
   "cell_type": "code",
   "execution_count": 211,
   "metadata": {
    "collapsed": false
   },
   "outputs": [
    {
     "data": {
      "text/plain": [
       "array([[ 1.,  0.],\n",
       "       [ 1.,  0.],\n",
       "       [ 1.,  0.],\n",
       "       ..., \n",
       "       [ 1.,  0.],\n",
       "       [ 1.,  0.],\n",
       "       [ 1.,  0.]])"
      ]
     },
     "execution_count": 211,
     "metadata": {},
     "output_type": "execute_result"
    }
   ],
   "source": [
    "dtmodel.predict_proba(test[['score','release_year','release_day']])"
   ]
  },
  {
   "cell_type": "code",
   "execution_count": 173,
   "metadata": {
    "collapsed": true
   },
   "outputs": [],
   "source": [
    "#And this brings us to the end of our experiment with gaming data"
   ]
  }
 ],
 "metadata": {
  "kernelspec": {
   "display_name": "Python 3",
   "language": "python",
   "name": "python3"
  },
  "language_info": {
   "codemirror_mode": {
    "name": "ipython",
    "version": 3
   },
   "file_extension": ".py",
   "mimetype": "text/x-python",
   "name": "python",
   "nbconvert_exporter": "python",
   "pygments_lexer": "ipython3",
   "version": "3.5.1"
  }
 },
 "nbformat": 4,
 "nbformat_minor": 0
}
